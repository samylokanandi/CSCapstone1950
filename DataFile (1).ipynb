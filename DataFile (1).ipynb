{
 "cells": [
  {
   "cell_type": "code",
   "execution_count": 2,
   "id": "afb02f17-2027-43e8-bc0d-d5d117643f7c",
   "metadata": {},
   "outputs": [],
   "source": [
    "import numpy as np\n",
    "import pandas as pd\n",
    "import matplotlib.pyplot as plt"
   ]
  },
  {
   "cell_type": "code",
   "execution_count": 3,
   "id": "ed4b63c9-7b4c-4b3e-bf9c-a9dd490f6040",
   "metadata": {},
   "outputs": [],
   "source": [
    "import seaborn as sns"
   ]
  },
  {
   "cell_type": "code",
   "execution_count": 4,
   "id": "23fed509-6883-448c-8ffa-5d0067e247c9",
   "metadata": {},
   "outputs": [],
   "source": [
    "datafile = pd.read_csv('pareto_steiner_synthetic0.2.csv', skipinitialspace=True)\n"
   ]
  },
  {
   "cell_type": "code",
   "execution_count": 5,
   "id": "585efc85-7634-485b-b797-e7d295e52d7f",
   "metadata": {},
   "outputs": [
    {
     "data": {
      "text/plain": [
       "<AxesSubplot:xlabel='neuron name'>"
      ]
     },
     "execution_count": 5,
     "metadata": {},
     "output_type": "execute_result"
    },
    {
     "data": {
      "image/png": "[encoded data removed]",
      "text/plain": [
       "<Figure size 432x288 with 1 Axes>"
      ]
     },
     "metadata": {
      "needs_background": "light"
     },
     "output_type": "display_data"
    }
   ],
   "source": [
    "datafile.plot(y = 'points', x = 'neuron name')"
   ]
  },
  {
   "cell_type": "code",
   "execution_count": 6,
   "id": "b03aea40-a2bc-4b7a-9952-3bfbcba35026",
   "metadata": {},
   "outputs": [
    {
     "name": "stdout",
     "output_type": "stream",
     "text": [
      "                     neuron name      neuron type  points  alpha\n",
      "0            humret_CR_AII_63x_4  apical dendrite     112   0.98\n",
      "1            humret_CR_AII_63x_4   basal dendrite    3082   0.95\n",
      "2            humret_CR_AII_63x_4             axon       7   0.99\n",
      "3  humret_CRinterplexiform_40x_1   basal dendrite     673   1.00\n",
      "4  humret_CRinterplexiform_40x_1  apical dendrite      90   1.00\n"
     ]
    }
   ],
   "source": [
    "print(datafile.head())"
   ]
  },
  {
   "cell_type": "code",
   "execution_count": 7,
   "id": "c177fdf2-1247-4239-85a8-e86f0bf5be89",
   "metadata": {},
   "outputs": [
    {
     "name": "stdout",
     "output_type": "stream",
     "text": [
      "False\n"
     ]
    }
   ],
   "source": [
    "print(datafile.isnull().values.any())\n"
   ]
  },
  {
   "cell_type": "code",
   "execution_count": 8,
   "id": "bd1ccf7d-ff19-45b4-8ae4-2d9d5867a367",
   "metadata": {},
   "outputs": [],
   "source": [
    "datafile = datafile[datafile['points'] >= 100]"
   ]
  },
  {
   "cell_type": "code",
   "execution_count": 9,
   "id": "3927d7f0-700a-4d04-a146-3e8ade0a83a8",
   "metadata": {},
   "outputs": [
    {
     "data": {
      "text/html": [
       "<div>\n",
       "<style scoped>\n",
       "    .dataframe tbody tr th:only-of-type {\n",
       "        vertical-align: middle;\n",
       "    }\n",
       "\n",
       "    .dataframe tbody tr th {\n",
       "        vertical-align: top;\n",
       "    }\n",
       "\n",
       "    .dataframe thead th {\n",
       "        text-align: right;\n",
       "    }\n",
       "</style>\n",
       "<table border=\"1\" class=\"dataframe\">\n",
       "  <thead>\n",
       "    <tr style=\"text-align: right;\">\n",
       "      <th></th>\n",
       "      <th>neuron name</th>\n",
       "      <th>neuron type</th>\n",
       "      <th>points</th>\n",
       "      <th>alpha</th>\n",
       "    </tr>\n",
       "  </thead>\n",
       "  <tbody>\n",
       "    <tr>\n",
       "      <th>0</th>\n",
       "      <td>humret_CR_AII_63x_4</td>\n",
       "      <td>apical dendrite</td>\n",
       "      <td>112</td>\n",
       "      <td>0.98</td>\n",
       "    </tr>\n",
       "    <tr>\n",
       "      <th>1</th>\n",
       "      <td>humret_CR_AII_63x_4</td>\n",
       "      <td>basal dendrite</td>\n",
       "      <td>3082</td>\n",
       "      <td>0.95</td>\n",
       "    </tr>\n",
       "    <tr>\n",
       "      <th>3</th>\n",
       "      <td>humret_CRinterplexiform_40x_1</td>\n",
       "      <td>basal dendrite</td>\n",
       "      <td>673</td>\n",
       "      <td>1.00</td>\n",
       "    </tr>\n",
       "    <tr>\n",
       "      <th>5</th>\n",
       "      <td>humret_CRinterplexiform_40x_2</td>\n",
       "      <td>basal dendrite</td>\n",
       "      <td>733</td>\n",
       "      <td>0.80</td>\n",
       "    </tr>\n",
       "    <tr>\n",
       "      <th>8</th>\n",
       "      <td>humret_CRinterplexiform_40x_3</td>\n",
       "      <td>basal dendrite</td>\n",
       "      <td>952</td>\n",
       "      <td>0.71</td>\n",
       "    </tr>\n",
       "  </tbody>\n",
       "</table>\n",
       "</div>"
      ],
      "text/plain": [
       "                     neuron name      neuron type  points  alpha\n",
       "0            humret_CR_AII_63x_4  apical dendrite     112   0.98\n",
       "1            humret_CR_AII_63x_4   basal dendrite    3082   0.95\n",
       "3  humret_CRinterplexiform_40x_1   basal dendrite     673   1.00\n",
       "5  humret_CRinterplexiform_40x_2   basal dendrite     733   0.80\n",
       "8  humret_CRinterplexiform_40x_3   basal dendrite     952   0.71"
      ]
     },
     "execution_count": 9,
     "metadata": {},
     "output_type": "execute_result"
    }
   ],
   "source": [
    "datafile.head()"
   ]
  },
  {
   "cell_type": "code",
   "execution_count": 10,
   "id": "36f07931-84b7-4b89-b3d4-270f2f3637df",
   "metadata": {},
   "outputs": [],
   "source": [
    "NN = datafile[\"neuron name\"]\n",
    "NT = datafile[\"neuron type\"]\n",
    "Point = datafile[\"points\"]\n",
    "Alpha = datafile[\"alpha\"]"
   ]
  },
  {
   "cell_type": "code",
   "execution_count": 11,
   "id": "e3d19c65-e9f5-4b5e-be25-ad8aff4f3873",
   "metadata": {},
   "outputs": [
    {
     "data": {
      "text/plain": [
       "<AxesSubplot:xlabel='neuron type', ylabel='alpha'>"
      ]
     },
     "execution_count": 11,
     "metadata": {},
     "output_type": "execute_result"
    },
    {
     "data": {
      "image/png": "[encoded data removed]",
      "text/plain": [
       "<Figure size 432x288 with 1 Axes>"
      ]
     },
     "metadata": {
      "needs_background": "light"
     },
     "output_type": "display_data"
    }
   ],
   "source": [
    "sns.boxenplot(x=NT, y=Alpha)\n"
   ]
  },
  {
   "cell_type": "code",
   "execution_count": 12,
   "id": "70b4c608-b8ec-41d9-8d84-3c3c2e9fa31a",
   "metadata": {},
   "outputs": [],
   "source": [
    "datafile = datafile[datafile['points'] >= 100]"
   ]
  },
  {
   "cell_type": "code",
   "execution_count": 13,
   "id": "81653c94-76c1-4c81-9e7d-dc1134fe23a9",
   "metadata": {},
   "outputs": [
    {
     "data": {
      "text/plain": [
       "<AxesSubplot:xlabel='neuron type', ylabel='points'>"
      ]
     },
     "execution_count": 13,
     "metadata": {},
     "output_type": "execute_result"
    },
    {
     "data": {
      "image/png": "[encoded data removed]",
      "text/plain": [
       "<Figure size 432x288 with 1 Axes>"
      ]
     },
     "metadata": {
      "needs_background": "light"
     },
     "output_type": "display_data"
    }
   ],
   "source": [
    "sns.boxenplot(x = NT, y= Point)"
   ]
  },
  {
   "cell_type": "code",
   "execution_count": 14,
   "id": "5aa8b35d-6bbd-4dd8-9fbd-5bbcc9f9dca5",
   "metadata": {},
   "outputs": [],
   "source": [
    "nextDatafile = pd.read_csv('neuron_categories.csv', skipinitialspace=True)\n"
   ]
  },
  {
   "cell_type": "code",
   "execution_count": 15,
   "id": "6a2ca479-c059-4355-8b15-0e6cc2052957",
   "metadata": {},
   "outputs": [],
   "source": [
    "cutoff = 200"
   ]
  },
  {
   "cell_type": "code",
   "execution_count": 16,
   "id": "6a8e1a7b-60df-4a8d-b281-fd24d8c5e4b5",
   "metadata": {},
   "outputs": [],
   "source": [
    "filteredCategories = nextDatafile[nextDatafile['cell type'].map(nextDatafile['cell type'].value_counts()) > cutoff]"
   ]
  },
  {
   "cell_type": "code",
   "execution_count": 17,
   "id": "226cd0a1-a5cf-4c20-8b7f-c7112bc72776",
   "metadata": {},
   "outputs": [
    {
     "data": {
      "text/html": [
       "<div>\n",
       "<style scoped>\n",
       "    .dataframe tbody tr th:only-of-type {\n",
       "        vertical-align: middle;\n",
       "    }\n",
       "\n",
       "    .dataframe tbody tr th {\n",
       "        vertical-align: top;\n",
       "    }\n",
       "\n",
       "    .dataframe thead th {\n",
       "        text-align: right;\n",
       "    }\n",
       "</style>\n",
       "<table border=\"1\" class=\"dataframe\">\n",
       "  <thead>\n",
       "    <tr style=\"text-align: right;\">\n",
       "      <th></th>\n",
       "      <th>neuron name</th>\n",
       "      <th>cell type</th>\n",
       "      <th>species</th>\n",
       "      <th>region</th>\n",
       "      <th>lab</th>\n",
       "    </tr>\n",
       "  </thead>\n",
       "  <tbody>\n",
       "    <tr>\n",
       "      <th>0</th>\n",
       "      <td>humret_CR_AII_63x_1</td>\n",
       "      <td>amacrine</td>\n",
       "      <td>human</td>\n",
       "      <td>retina</td>\n",
       "      <td>kantor</td>\n",
       "    </tr>\n",
       "    <tr>\n",
       "      <th>1</th>\n",
       "      <td>humret_CR_AII_63x_2</td>\n",
       "      <td>amacrine</td>\n",
       "      <td>human</td>\n",
       "      <td>retina</td>\n",
       "      <td>kantor</td>\n",
       "    </tr>\n",
       "    <tr>\n",
       "      <th>2</th>\n",
       "      <td>humret_CR_AII_63x_3</td>\n",
       "      <td>amacrine</td>\n",
       "      <td>human</td>\n",
       "      <td>retina</td>\n",
       "      <td>kantor</td>\n",
       "    </tr>\n",
       "    <tr>\n",
       "      <th>3</th>\n",
       "      <td>humret_CR_AII_63x_4</td>\n",
       "      <td>amacrine</td>\n",
       "      <td>human</td>\n",
       "      <td>retina</td>\n",
       "      <td>kantor</td>\n",
       "    </tr>\n",
       "    <tr>\n",
       "      <th>4</th>\n",
       "      <td>humret_CR_AII_63x_5</td>\n",
       "      <td>amacrine</td>\n",
       "      <td>human</td>\n",
       "      <td>retina</td>\n",
       "      <td>kantor</td>\n",
       "    </tr>\n",
       "    <tr>\n",
       "      <th>...</th>\n",
       "      <td>...</td>\n",
       "      <td>...</td>\n",
       "      <td>...</td>\n",
       "      <td>...</td>\n",
       "      <td>...</td>\n",
       "    </tr>\n",
       "    <tr>\n",
       "      <th>143662</th>\n",
       "      <td>Rbp4-Cre_KL100_Ai14-196624-06-02-01_491253814_m</td>\n",
       "      <td>homeobox protein cux-2-positive</td>\n",
       "      <td>mouse</td>\n",
       "      <td>layer 2-3</td>\n",
       "      <td>allen cell types</td>\n",
       "    </tr>\n",
       "    <tr>\n",
       "      <th>143663</th>\n",
       "      <td>Rbp4-Cre_KL100_Ai14-203498-04-01-01_496085098_m</td>\n",
       "      <td>homeobox protein cux-2-positive</td>\n",
       "      <td>mouse</td>\n",
       "      <td>layer 2-3</td>\n",
       "      <td>allen cell types</td>\n",
       "    </tr>\n",
       "    <tr>\n",
       "      <th>143664</th>\n",
       "      <td>Rbp4-Cre_KL100_Ai14-203498-04-02-01_496001061_m</td>\n",
       "      <td>homeobox protein cux-2-positive</td>\n",
       "      <td>mouse</td>\n",
       "      <td>layer 2-3</td>\n",
       "      <td>allen cell types</td>\n",
       "    </tr>\n",
       "    <tr>\n",
       "      <th>143665</th>\n",
       "      <td>Rbp4-Cre_KL100_Ai14-204744-03-02-01_496123859_m</td>\n",
       "      <td>homeobox protein cux-2-positive</td>\n",
       "      <td>mouse</td>\n",
       "      <td>layer 2-3</td>\n",
       "      <td>allen cell types</td>\n",
       "    </tr>\n",
       "    <tr>\n",
       "      <th>143666</th>\n",
       "      <td>Rbp4-Cre_KL100_Ai14-204744-04-01-01_496123897_m</td>\n",
       "      <td>homeobox protein cux-2-positive</td>\n",
       "      <td>mouse</td>\n",
       "      <td>layer 2-3</td>\n",
       "      <td>allen cell types</td>\n",
       "    </tr>\n",
       "  </tbody>\n",
       "</table>\n",
       "<p>134718 rows × 5 columns</p>\n",
       "</div>"
      ],
      "text/plain": [
       "                                            neuron name  \\\n",
       "0                                   humret_CR_AII_63x_1   \n",
       "1                                   humret_CR_AII_63x_2   \n",
       "2                                   humret_CR_AII_63x_3   \n",
       "3                                   humret_CR_AII_63x_4   \n",
       "4                                   humret_CR_AII_63x_5   \n",
       "...                                                 ...   \n",
       "143662  Rbp4-Cre_KL100_Ai14-196624-06-02-01_491253814_m   \n",
       "143663  Rbp4-Cre_KL100_Ai14-203498-04-01-01_496085098_m   \n",
       "143664  Rbp4-Cre_KL100_Ai14-203498-04-02-01_496001061_m   \n",
       "143665  Rbp4-Cre_KL100_Ai14-204744-03-02-01_496123859_m   \n",
       "143666  Rbp4-Cre_KL100_Ai14-204744-04-01-01_496123897_m   \n",
       "\n",
       "                              cell type species     region               lab  \n",
       "0                              amacrine   human     retina            kantor  \n",
       "1                              amacrine   human     retina            kantor  \n",
       "2                              amacrine   human     retina            kantor  \n",
       "3                              amacrine   human     retina            kantor  \n",
       "4                              amacrine   human     retina            kantor  \n",
       "...                                 ...     ...        ...               ...  \n",
       "143662  homeobox protein cux-2-positive   mouse  layer 2-3  allen cell types  \n",
       "143663  homeobox protein cux-2-positive   mouse  layer 2-3  allen cell types  \n",
       "143664  homeobox protein cux-2-positive   mouse  layer 2-3  allen cell types  \n",
       "143665  homeobox protein cux-2-positive   mouse  layer 2-3  allen cell types  \n",
       "143666  homeobox protein cux-2-positive   mouse  layer 2-3  allen cell types  \n",
       "\n",
       "[134718 rows x 5 columns]"
      ]
     },
     "execution_count": 17,
     "metadata": {},
     "output_type": "execute_result"
    }
   ],
   "source": [
    "filteredCategories "
   ]
  },
  {
   "cell_type": "code",
   "execution_count": 18,
   "id": "43042da3-8daa-4d89-8f3f-41511c347721",
   "metadata": {},
   "outputs": [],
   "source": [
    "filteredCategories = filteredCategories[filteredCategories['species'].map(filteredCategories['species'].value_counts()) > cutoff]"
   ]
  },
  {
   "cell_type": "code",
   "execution_count": 19,
   "id": "c0537a80-e3bd-4625-a73c-978f11818745",
   "metadata": {},
   "outputs": [],
   "source": [
    "filteredCategories = filteredCategories[filteredCategories['region'].map(filteredCategories['region'].value_counts()) > cutoff]"
   ]
  },
  {
   "cell_type": "code",
   "execution_count": 20,
   "id": "f590cf20-28a7-437c-8c40-1e62e9c63baf",
   "metadata": {},
   "outputs": [
    {
     "data": {
      "text/html": [
       "<div>\n",
       "<style scoped>\n",
       "    .dataframe tbody tr th:only-of-type {\n",
       "        vertical-align: middle;\n",
       "    }\n",
       "\n",
       "    .dataframe tbody tr th {\n",
       "        vertical-align: top;\n",
       "    }\n",
       "\n",
       "    .dataframe thead th {\n",
       "        text-align: right;\n",
       "    }\n",
       "</style>\n",
       "<table border=\"1\" class=\"dataframe\">\n",
       "  <thead>\n",
       "    <tr style=\"text-align: right;\">\n",
       "      <th></th>\n",
       "      <th>neuron name</th>\n",
       "      <th>cell type</th>\n",
       "      <th>species</th>\n",
       "      <th>region</th>\n",
       "      <th>lab</th>\n",
       "    </tr>\n",
       "  </thead>\n",
       "  <tbody>\n",
       "    <tr>\n",
       "      <th>0</th>\n",
       "      <td>humret_CR_AII_63x_1</td>\n",
       "      <td>amacrine</td>\n",
       "      <td>human</td>\n",
       "      <td>retina</td>\n",
       "      <td>kantor</td>\n",
       "    </tr>\n",
       "    <tr>\n",
       "      <th>1</th>\n",
       "      <td>humret_CR_AII_63x_2</td>\n",
       "      <td>amacrine</td>\n",
       "      <td>human</td>\n",
       "      <td>retina</td>\n",
       "      <td>kantor</td>\n",
       "    </tr>\n",
       "    <tr>\n",
       "      <th>2</th>\n",
       "      <td>humret_CR_AII_63x_3</td>\n",
       "      <td>amacrine</td>\n",
       "      <td>human</td>\n",
       "      <td>retina</td>\n",
       "      <td>kantor</td>\n",
       "    </tr>\n",
       "    <tr>\n",
       "      <th>3</th>\n",
       "      <td>humret_CR_AII_63x_4</td>\n",
       "      <td>amacrine</td>\n",
       "      <td>human</td>\n",
       "      <td>retina</td>\n",
       "      <td>kantor</td>\n",
       "    </tr>\n",
       "    <tr>\n",
       "      <th>4</th>\n",
       "      <td>humret_CR_AII_63x_5</td>\n",
       "      <td>amacrine</td>\n",
       "      <td>human</td>\n",
       "      <td>retina</td>\n",
       "      <td>kantor</td>\n",
       "    </tr>\n",
       "    <tr>\n",
       "      <th>...</th>\n",
       "      <td>...</td>\n",
       "      <td>...</td>\n",
       "      <td>...</td>\n",
       "      <td>...</td>\n",
       "      <td>...</td>\n",
       "    </tr>\n",
       "    <tr>\n",
       "      <th>143662</th>\n",
       "      <td>Rbp4-Cre_KL100_Ai14-196624-06-02-01_491253814_m</td>\n",
       "      <td>homeobox protein cux-2-positive</td>\n",
       "      <td>mouse</td>\n",
       "      <td>layer 2-3</td>\n",
       "      <td>allen cell types</td>\n",
       "    </tr>\n",
       "    <tr>\n",
       "      <th>143663</th>\n",
       "      <td>Rbp4-Cre_KL100_Ai14-203498-04-01-01_496085098_m</td>\n",
       "      <td>homeobox protein cux-2-positive</td>\n",
       "      <td>mouse</td>\n",
       "      <td>layer 2-3</td>\n",
       "      <td>allen cell types</td>\n",
       "    </tr>\n",
       "    <tr>\n",
       "      <th>143664</th>\n",
       "      <td>Rbp4-Cre_KL100_Ai14-203498-04-02-01_496001061_m</td>\n",
       "      <td>homeobox protein cux-2-positive</td>\n",
       "      <td>mouse</td>\n",
       "      <td>layer 2-3</td>\n",
       "      <td>allen cell types</td>\n",
       "    </tr>\n",
       "    <tr>\n",
       "      <th>143665</th>\n",
       "      <td>Rbp4-Cre_KL100_Ai14-204744-03-02-01_496123859_m</td>\n",
       "      <td>homeobox protein cux-2-positive</td>\n",
       "      <td>mouse</td>\n",
       "      <td>layer 2-3</td>\n",
       "      <td>allen cell types</td>\n",
       "    </tr>\n",
       "    <tr>\n",
       "      <th>143666</th>\n",
       "      <td>Rbp4-Cre_KL100_Ai14-204744-04-01-01_496123897_m</td>\n",
       "      <td>homeobox protein cux-2-positive</td>\n",
       "      <td>mouse</td>\n",
       "      <td>layer 2-3</td>\n",
       "      <td>allen cell types</td>\n",
       "    </tr>\n",
       "  </tbody>\n",
       "</table>\n",
       "<p>124988 rows × 5 columns</p>\n",
       "</div>"
      ],
      "text/plain": [
       "                                            neuron name  \\\n",
       "0                                   humret_CR_AII_63x_1   \n",
       "1                                   humret_CR_AII_63x_2   \n",
       "2                                   humret_CR_AII_63x_3   \n",
       "3                                   humret_CR_AII_63x_4   \n",
       "4                                   humret_CR_AII_63x_5   \n",
       "...                                                 ...   \n",
       "143662  Rbp4-Cre_KL100_Ai14-196624-06-02-01_491253814_m   \n",
       "143663  Rbp4-Cre_KL100_Ai14-203498-04-01-01_496085098_m   \n",
       "143664  Rbp4-Cre_KL100_Ai14-203498-04-02-01_496001061_m   \n",
       "143665  Rbp4-Cre_KL100_Ai14-204744-03-02-01_496123859_m   \n",
       "143666  Rbp4-Cre_KL100_Ai14-204744-04-01-01_496123897_m   \n",
       "\n",
       "                              cell type species     region               lab  \n",
       "0                              amacrine   human     retina            kantor  \n",
       "1                              amacrine   human     retina            kantor  \n",
       "2                              amacrine   human     retina            kantor  \n",
       "3                              amacrine   human     retina            kantor  \n",
       "4                              amacrine   human     retina            kantor  \n",
       "...                                 ...     ...        ...               ...  \n",
       "143662  homeobox protein cux-2-positive   mouse  layer 2-3  allen cell types  \n",
       "143663  homeobox protein cux-2-positive   mouse  layer 2-3  allen cell types  \n",
       "143664  homeobox protein cux-2-positive   mouse  layer 2-3  allen cell types  \n",
       "143665  homeobox protein cux-2-positive   mouse  layer 2-3  allen cell types  \n",
       "143666  homeobox protein cux-2-positive   mouse  layer 2-3  allen cell types  \n",
       "\n",
       "[124988 rows x 5 columns]"
      ]
     },
     "execution_count": 20,
     "metadata": {},
     "output_type": "execute_result"
    }
   ],
   "source": [
    "filteredCategories"
   ]
  },
  {
   "cell_type": "code",
   "execution_count": 21,
   "id": "b7cef028-33c6-4767-872e-2c2add053b67",
   "metadata": {},
   "outputs": [
    {
     "data": {
      "text/html": [
       "<div>\n",
       "<style scoped>\n",
       "    .dataframe tbody tr th:only-of-type {\n",
       "        vertical-align: middle;\n",
       "    }\n",
       "\n",
       "    .dataframe tbody tr th {\n",
       "        vertical-align: top;\n",
       "    }\n",
       "\n",
       "    .dataframe thead th {\n",
       "        text-align: right;\n",
       "    }\n",
       "</style>\n",
       "<table border=\"1\" class=\"dataframe\">\n",
       "  <thead>\n",
       "    <tr style=\"text-align: right;\">\n",
       "      <th></th>\n",
       "      <th>neuron name</th>\n",
       "      <th>neuron type</th>\n",
       "      <th>points</th>\n",
       "      <th>alpha</th>\n",
       "    </tr>\n",
       "  </thead>\n",
       "  <tbody>\n",
       "    <tr>\n",
       "      <th>0</th>\n",
       "      <td>humret_CR_AII_63x_4</td>\n",
       "      <td>apical dendrite</td>\n",
       "      <td>112</td>\n",
       "      <td>0.98</td>\n",
       "    </tr>\n",
       "    <tr>\n",
       "      <th>1</th>\n",
       "      <td>humret_CR_AII_63x_4</td>\n",
       "      <td>basal dendrite</td>\n",
       "      <td>3082</td>\n",
       "      <td>0.95</td>\n",
       "    </tr>\n",
       "    <tr>\n",
       "      <th>3</th>\n",
       "      <td>humret_CRinterplexiform_40x_1</td>\n",
       "      <td>basal dendrite</td>\n",
       "      <td>673</td>\n",
       "      <td>1.00</td>\n",
       "    </tr>\n",
       "    <tr>\n",
       "      <th>5</th>\n",
       "      <td>humret_CRinterplexiform_40x_2</td>\n",
       "      <td>basal dendrite</td>\n",
       "      <td>733</td>\n",
       "      <td>0.80</td>\n",
       "    </tr>\n",
       "    <tr>\n",
       "      <th>8</th>\n",
       "      <td>humret_CRinterplexiform_40x_3</td>\n",
       "      <td>basal dendrite</td>\n",
       "      <td>952</td>\n",
       "      <td>0.71</td>\n",
       "    </tr>\n",
       "    <tr>\n",
       "      <th>...</th>\n",
       "      <td>...</td>\n",
       "      <td>...</td>\n",
       "      <td>...</td>\n",
       "      <td>...</td>\n",
       "    </tr>\n",
       "    <tr>\n",
       "      <th>26800</th>\n",
       "      <td>SE17</td>\n",
       "      <td>apical dendrite</td>\n",
       "      <td>3099</td>\n",
       "      <td>0.76</td>\n",
       "    </tr>\n",
       "    <tr>\n",
       "      <th>26801</th>\n",
       "      <td>28-7-3-neu-LN</td>\n",
       "      <td>basal dendrite</td>\n",
       "      <td>3425</td>\n",
       "      <td>0.78</td>\n",
       "    </tr>\n",
       "    <tr>\n",
       "      <th>26802</th>\n",
       "      <td>20-5-2-KD</td>\n",
       "      <td>apical dendrite</td>\n",
       "      <td>3567</td>\n",
       "      <td>0.53</td>\n",
       "    </tr>\n",
       "    <tr>\n",
       "      <th>26803</th>\n",
       "      <td>DAG052C-2</td>\n",
       "      <td>basal dendrite</td>\n",
       "      <td>4115</td>\n",
       "      <td>1.00</td>\n",
       "    </tr>\n",
       "    <tr>\n",
       "      <th>26804</th>\n",
       "      <td>SE20</td>\n",
       "      <td>apical dendrite</td>\n",
       "      <td>3048</td>\n",
       "      <td>1.00</td>\n",
       "    </tr>\n",
       "  </tbody>\n",
       "</table>\n",
       "<p>19599 rows × 4 columns</p>\n",
       "</div>"
      ],
      "text/plain": [
       "                         neuron name      neuron type  points  alpha\n",
       "0                humret_CR_AII_63x_4  apical dendrite     112   0.98\n",
       "1                humret_CR_AII_63x_4   basal dendrite    3082   0.95\n",
       "3      humret_CRinterplexiform_40x_1   basal dendrite     673   1.00\n",
       "5      humret_CRinterplexiform_40x_2   basal dendrite     733   0.80\n",
       "8      humret_CRinterplexiform_40x_3   basal dendrite     952   0.71\n",
       "...                              ...              ...     ...    ...\n",
       "26800                           SE17  apical dendrite    3099   0.76\n",
       "26801                  28-7-3-neu-LN   basal dendrite    3425   0.78\n",
       "26802                      20-5-2-KD  apical dendrite    3567   0.53\n",
       "26803                      DAG052C-2   basal dendrite    4115   1.00\n",
       "26804                           SE20  apical dendrite    3048   1.00\n",
       "\n",
       "[19599 rows x 4 columns]"
      ]
     },
     "execution_count": 21,
     "metadata": {},
     "output_type": "execute_result"
    }
   ],
   "source": [
    "datafile"
   ]
  },
  {
   "cell_type": "code",
   "execution_count": 22,
   "id": "6c5c1e46-8d74-4322-b6f3-e8dcae6cfe41",
   "metadata": {},
   "outputs": [
    {
     "data": {
      "text/html": [
       "<div>\n",
       "<style scoped>\n",
       "    .dataframe tbody tr th:only-of-type {\n",
       "        vertical-align: middle;\n",
       "    }\n",
       "\n",
       "    .dataframe tbody tr th {\n",
       "        vertical-align: top;\n",
       "    }\n",
       "\n",
       "    .dataframe thead th {\n",
       "        text-align: right;\n",
       "    }\n",
       "</style>\n",
       "<table border=\"1\" class=\"dataframe\">\n",
       "  <thead>\n",
       "    <tr style=\"text-align: right;\">\n",
       "      <th></th>\n",
       "      <th>neuron name</th>\n",
       "      <th>neuron type</th>\n",
       "      <th>points</th>\n",
       "      <th>alpha</th>\n",
       "      <th>cell type</th>\n",
       "      <th>species</th>\n",
       "      <th>region</th>\n",
       "      <th>lab</th>\n",
       "    </tr>\n",
       "  </thead>\n",
       "  <tbody>\n",
       "    <tr>\n",
       "      <th>0</th>\n",
       "      <td>humret_CR_AII_63x_4</td>\n",
       "      <td>apical dendrite</td>\n",
       "      <td>112</td>\n",
       "      <td>0.98</td>\n",
       "      <td>amacrine</td>\n",
       "      <td>human</td>\n",
       "      <td>retina</td>\n",
       "      <td>kantor</td>\n",
       "    </tr>\n",
       "    <tr>\n",
       "      <th>1</th>\n",
       "      <td>humret_CR_AII_63x_4</td>\n",
       "      <td>apical dendrite</td>\n",
       "      <td>112</td>\n",
       "      <td>0.98</td>\n",
       "      <td>amacrine</td>\n",
       "      <td>human</td>\n",
       "      <td>retina</td>\n",
       "      <td>kantor</td>\n",
       "    </tr>\n",
       "    <tr>\n",
       "      <th>2</th>\n",
       "      <td>humret_CR_AII_63x_4</td>\n",
       "      <td>apical dendrite</td>\n",
       "      <td>112</td>\n",
       "      <td>0.98</td>\n",
       "      <td>interneuron</td>\n",
       "      <td>human</td>\n",
       "      <td>retina</td>\n",
       "      <td>kantor</td>\n",
       "    </tr>\n",
       "    <tr>\n",
       "      <th>3</th>\n",
       "      <td>humret_CR_AII_63x_4</td>\n",
       "      <td>basal dendrite</td>\n",
       "      <td>3082</td>\n",
       "      <td>0.95</td>\n",
       "      <td>amacrine</td>\n",
       "      <td>human</td>\n",
       "      <td>retina</td>\n",
       "      <td>kantor</td>\n",
       "    </tr>\n",
       "    <tr>\n",
       "      <th>4</th>\n",
       "      <td>humret_CR_AII_63x_4</td>\n",
       "      <td>basal dendrite</td>\n",
       "      <td>3082</td>\n",
       "      <td>0.95</td>\n",
       "      <td>amacrine</td>\n",
       "      <td>human</td>\n",
       "      <td>retina</td>\n",
       "      <td>kantor</td>\n",
       "    </tr>\n",
       "    <tr>\n",
       "      <th>...</th>\n",
       "      <td>...</td>\n",
       "      <td>...</td>\n",
       "      <td>...</td>\n",
       "      <td>...</td>\n",
       "      <td>...</td>\n",
       "      <td>...</td>\n",
       "      <td>...</td>\n",
       "      <td>...</td>\n",
       "    </tr>\n",
       "    <tr>\n",
       "      <th>67463</th>\n",
       "      <td>SE20</td>\n",
       "      <td>apical dendrite</td>\n",
       "      <td>3048</td>\n",
       "      <td>1.00</td>\n",
       "      <td>principal cell</td>\n",
       "      <td>mouse</td>\n",
       "      <td>primary somatosensory</td>\n",
       "      <td>gartner-alpar</td>\n",
       "    </tr>\n",
       "    <tr>\n",
       "      <th>67464</th>\n",
       "      <td>SE20</td>\n",
       "      <td>apical dendrite</td>\n",
       "      <td>3048</td>\n",
       "      <td>1.00</td>\n",
       "      <td>pyramidal</td>\n",
       "      <td>mouse</td>\n",
       "      <td>neocortex</td>\n",
       "      <td>gartner-alpar</td>\n",
       "    </tr>\n",
       "    <tr>\n",
       "      <th>67465</th>\n",
       "      <td>SE20</td>\n",
       "      <td>apical dendrite</td>\n",
       "      <td>3048</td>\n",
       "      <td>1.00</td>\n",
       "      <td>pyramidal</td>\n",
       "      <td>mouse</td>\n",
       "      <td>somatosensory</td>\n",
       "      <td>gartner-alpar</td>\n",
       "    </tr>\n",
       "    <tr>\n",
       "      <th>67466</th>\n",
       "      <td>SE20</td>\n",
       "      <td>apical dendrite</td>\n",
       "      <td>3048</td>\n",
       "      <td>1.00</td>\n",
       "      <td>pyramidal</td>\n",
       "      <td>mouse</td>\n",
       "      <td>primary somatosensory</td>\n",
       "      <td>gartner-alpar</td>\n",
       "    </tr>\n",
       "    <tr>\n",
       "      <th>67467</th>\n",
       "      <td>SE20</td>\n",
       "      <td>apical dendrite</td>\n",
       "      <td>3048</td>\n",
       "      <td>1.00</td>\n",
       "      <td>pyramidal</td>\n",
       "      <td>mouse</td>\n",
       "      <td>left</td>\n",
       "      <td>gartner-alpar</td>\n",
       "    </tr>\n",
       "  </tbody>\n",
       "</table>\n",
       "<p>67468 rows × 8 columns</p>\n",
       "</div>"
      ],
      "text/plain": [
       "               neuron name      neuron type  points  alpha       cell type  \\\n",
       "0      humret_CR_AII_63x_4  apical dendrite     112   0.98        amacrine   \n",
       "1      humret_CR_AII_63x_4  apical dendrite     112   0.98        amacrine   \n",
       "2      humret_CR_AII_63x_4  apical dendrite     112   0.98     interneuron   \n",
       "3      humret_CR_AII_63x_4   basal dendrite    3082   0.95        amacrine   \n",
       "4      humret_CR_AII_63x_4   basal dendrite    3082   0.95        amacrine   \n",
       "...                    ...              ...     ...    ...             ...   \n",
       "67463                 SE20  apical dendrite    3048   1.00  principal cell   \n",
       "67464                 SE20  apical dendrite    3048   1.00       pyramidal   \n",
       "67465                 SE20  apical dendrite    3048   1.00       pyramidal   \n",
       "67466                 SE20  apical dendrite    3048   1.00       pyramidal   \n",
       "67467                 SE20  apical dendrite    3048   1.00       pyramidal   \n",
       "\n",
       "      species                 region            lab  \n",
       "0       human                 retina         kantor  \n",
       "1       human                 retina         kantor  \n",
       "2       human                 retina         kantor  \n",
       "3       human                 retina         kantor  \n",
       "4       human                 retina         kantor  \n",
       "...       ...                    ...            ...  \n",
       "67463   mouse  primary somatosensory  gartner-alpar  \n",
       "67464   mouse              neocortex  gartner-alpar  \n",
       "67465   mouse          somatosensory  gartner-alpar  \n",
       "67466   mouse  primary somatosensory  gartner-alpar  \n",
       "67467   mouse                   left  gartner-alpar  \n",
       "\n",
       "[67468 rows x 8 columns]"
      ]
     },
     "execution_count": 22,
     "metadata": {},
     "output_type": "execute_result"
    }
   ],
   "source": [
    "datafile.merge(filteredCategories)"
   ]
  },
  {
   "cell_type": "code",
   "execution_count": 23,
   "id": "4d175073-5f3b-4936-abf3-066a3c4e41ef",
   "metadata": {},
   "outputs": [],
   "source": [
    "full_df = datafile.merge(filteredCategories)"
   ]
  },
  {
   "cell_type": "code",
   "execution_count": 24,
   "id": "6d1476cf-bda5-4c87-8965-87a1b460db80",
   "metadata": {},
   "outputs": [
    {
     "data": {
      "text/html": [
       "<div>\n",
       "<style scoped>\n",
       "    .dataframe tbody tr th:only-of-type {\n",
       "        vertical-align: middle;\n",
       "    }\n",
       "\n",
       "    .dataframe tbody tr th {\n",
       "        vertical-align: top;\n",
       "    }\n",
       "\n",
       "    .dataframe thead th {\n",
       "        text-align: right;\n",
       "    }\n",
       "</style>\n",
       "<table border=\"1\" class=\"dataframe\">\n",
       "  <thead>\n",
       "    <tr style=\"text-align: right;\">\n",
       "      <th></th>\n",
       "      <th>neuron name</th>\n",
       "      <th>neuron type</th>\n",
       "      <th>points</th>\n",
       "      <th>alpha</th>\n",
       "      <th>cell type</th>\n",
       "      <th>species</th>\n",
       "      <th>region</th>\n",
       "      <th>lab</th>\n",
       "    </tr>\n",
       "  </thead>\n",
       "  <tbody>\n",
       "    <tr>\n",
       "      <th>0</th>\n",
       "      <td>humret_CR_AII_63x_4</td>\n",
       "      <td>apical dendrite</td>\n",
       "      <td>112</td>\n",
       "      <td>0.98</td>\n",
       "      <td>amacrine</td>\n",
       "      <td>human</td>\n",
       "      <td>retina</td>\n",
       "      <td>kantor</td>\n",
       "    </tr>\n",
       "    <tr>\n",
       "      <th>1</th>\n",
       "      <td>humret_CR_AII_63x_4</td>\n",
       "      <td>apical dendrite</td>\n",
       "      <td>112</td>\n",
       "      <td>0.98</td>\n",
       "      <td>amacrine</td>\n",
       "      <td>human</td>\n",
       "      <td>retina</td>\n",
       "      <td>kantor</td>\n",
       "    </tr>\n",
       "    <tr>\n",
       "      <th>2</th>\n",
       "      <td>humret_CR_AII_63x_4</td>\n",
       "      <td>apical dendrite</td>\n",
       "      <td>112</td>\n",
       "      <td>0.98</td>\n",
       "      <td>interneuron</td>\n",
       "      <td>human</td>\n",
       "      <td>retina</td>\n",
       "      <td>kantor</td>\n",
       "    </tr>\n",
       "    <tr>\n",
       "      <th>3</th>\n",
       "      <td>humret_CR_AII_63x_4</td>\n",
       "      <td>basal dendrite</td>\n",
       "      <td>3082</td>\n",
       "      <td>0.95</td>\n",
       "      <td>amacrine</td>\n",
       "      <td>human</td>\n",
       "      <td>retina</td>\n",
       "      <td>kantor</td>\n",
       "    </tr>\n",
       "    <tr>\n",
       "      <th>4</th>\n",
       "      <td>humret_CR_AII_63x_4</td>\n",
       "      <td>basal dendrite</td>\n",
       "      <td>3082</td>\n",
       "      <td>0.95</td>\n",
       "      <td>amacrine</td>\n",
       "      <td>human</td>\n",
       "      <td>retina</td>\n",
       "      <td>kantor</td>\n",
       "    </tr>\n",
       "    <tr>\n",
       "      <th>...</th>\n",
       "      <td>...</td>\n",
       "      <td>...</td>\n",
       "      <td>...</td>\n",
       "      <td>...</td>\n",
       "      <td>...</td>\n",
       "      <td>...</td>\n",
       "      <td>...</td>\n",
       "      <td>...</td>\n",
       "    </tr>\n",
       "    <tr>\n",
       "      <th>67463</th>\n",
       "      <td>SE20</td>\n",
       "      <td>apical dendrite</td>\n",
       "      <td>3048</td>\n",
       "      <td>1.00</td>\n",
       "      <td>principal cell</td>\n",
       "      <td>mouse</td>\n",
       "      <td>primary somatosensory</td>\n",
       "      <td>gartner-alpar</td>\n",
       "    </tr>\n",
       "    <tr>\n",
       "      <th>67464</th>\n",
       "      <td>SE20</td>\n",
       "      <td>apical dendrite</td>\n",
       "      <td>3048</td>\n",
       "      <td>1.00</td>\n",
       "      <td>pyramidal</td>\n",
       "      <td>mouse</td>\n",
       "      <td>neocortex</td>\n",
       "      <td>gartner-alpar</td>\n",
       "    </tr>\n",
       "    <tr>\n",
       "      <th>67465</th>\n",
       "      <td>SE20</td>\n",
       "      <td>apical dendrite</td>\n",
       "      <td>3048</td>\n",
       "      <td>1.00</td>\n",
       "      <td>pyramidal</td>\n",
       "      <td>mouse</td>\n",
       "      <td>somatosensory</td>\n",
       "      <td>gartner-alpar</td>\n",
       "    </tr>\n",
       "    <tr>\n",
       "      <th>67466</th>\n",
       "      <td>SE20</td>\n",
       "      <td>apical dendrite</td>\n",
       "      <td>3048</td>\n",
       "      <td>1.00</td>\n",
       "      <td>pyramidal</td>\n",
       "      <td>mouse</td>\n",
       "      <td>primary somatosensory</td>\n",
       "      <td>gartner-alpar</td>\n",
       "    </tr>\n",
       "    <tr>\n",
       "      <th>67467</th>\n",
       "      <td>SE20</td>\n",
       "      <td>apical dendrite</td>\n",
       "      <td>3048</td>\n",
       "      <td>1.00</td>\n",
       "      <td>pyramidal</td>\n",
       "      <td>mouse</td>\n",
       "      <td>left</td>\n",
       "      <td>gartner-alpar</td>\n",
       "    </tr>\n",
       "  </tbody>\n",
       "</table>\n",
       "<p>67468 rows × 8 columns</p>\n",
       "</div>"
      ],
      "text/plain": [
       "               neuron name      neuron type  points  alpha       cell type  \\\n",
       "0      humret_CR_AII_63x_4  apical dendrite     112   0.98        amacrine   \n",
       "1      humret_CR_AII_63x_4  apical dendrite     112   0.98        amacrine   \n",
       "2      humret_CR_AII_63x_4  apical dendrite     112   0.98     interneuron   \n",
       "3      humret_CR_AII_63x_4   basal dendrite    3082   0.95        amacrine   \n",
       "4      humret_CR_AII_63x_4   basal dendrite    3082   0.95        amacrine   \n",
       "...                    ...              ...     ...    ...             ...   \n",
       "67463                 SE20  apical dendrite    3048   1.00  principal cell   \n",
       "67464                 SE20  apical dendrite    3048   1.00       pyramidal   \n",
       "67465                 SE20  apical dendrite    3048   1.00       pyramidal   \n",
       "67466                 SE20  apical dendrite    3048   1.00       pyramidal   \n",
       "67467                 SE20  apical dendrite    3048   1.00       pyramidal   \n",
       "\n",
       "      species                 region            lab  \n",
       "0       human                 retina         kantor  \n",
       "1       human                 retina         kantor  \n",
       "2       human                 retina         kantor  \n",
       "3       human                 retina         kantor  \n",
       "4       human                 retina         kantor  \n",
       "...       ...                    ...            ...  \n",
       "67463   mouse  primary somatosensory  gartner-alpar  \n",
       "67464   mouse              neocortex  gartner-alpar  \n",
       "67465   mouse          somatosensory  gartner-alpar  \n",
       "67466   mouse  primary somatosensory  gartner-alpar  \n",
       "67467   mouse                   left  gartner-alpar  \n",
       "\n",
       "[67468 rows x 8 columns]"
      ]
     },
     "execution_count": 24,
     "metadata": {},
     "output_type": "execute_result"
    }
   ],
   "source": [
    "full_df"
   ]
  },
  {
   "cell_type": "code",
   "execution_count": 25,
   "id": "c023e4bc-abf0-4669-9f90-aabd9126019b",
   "metadata": {},
   "outputs": [
    {
     "data": {
      "text/plain": [
       "<AxesSubplot:xlabel='cell type', ylabel='alpha'>"
      ]
     },
     "execution_count": 25,
     "metadata": {},
     "output_type": "execute_result"
    },
    {
     "data": {
      "image/png": "[encoded data removed]",
      "text/plain": [
       "<Figure size 1440x720 with 1 Axes>"
      ]
     },
     "metadata": {
      "needs_background": "light"
     },
     "output_type": "display_data"
    }
   ],
   "source": [
    "plt.figure(figsize = (20,10))\n",
    "sns.boxenplot(x = 'cell type', y = 'alpha', data = full_df, hue = 'neuron type')"
   ]
  },
  {
   "cell_type": "code",
   "execution_count": 26,
   "id": "c8091de6-901f-4b82-a61b-775ae9a4e486",
   "metadata": {},
   "outputs": [
    {
     "data": {
      "text/plain": [
       "(array([ 0,  1,  2,  3,  4,  5,  6,  7,  8,  9, 10, 11, 12, 13, 14, 15, 16,\n",
       "        17, 18, 19, 20, 21, 22, 23, 24, 25, 26, 27, 28, 29, 30, 31, 32, 33,\n",
       "        34, 35, 36, 37, 38, 39, 40, 41, 42, 43, 44, 45, 46, 47, 48]),\n",
       " [Text(0, 0, 'amacrine'),\n",
       "  Text(1, 0, 'interneuron'),\n",
       "  Text(2, 0, 'monostratified'),\n",
       "  Text(3, 0, 'bipolar'),\n",
       "  Text(4, 0, 'aspiny'),\n",
       "  Text(5, 0, 'golgi'),\n",
       "  Text(6, 0, 'principal cell'),\n",
       "  Text(7, 0, 'pyramidal'),\n",
       "  Text(8, 0, 'basket'),\n",
       "  Text(9, 0, 'granule'),\n",
       "  Text(10, 0, 'lugaro'),\n",
       "  Text(11, 0, 'gabaergic'),\n",
       "  Text(12, 0, 'fast-spiking'),\n",
       "  Text(13, 0, 'ganglion'),\n",
       "  Text(14, 0, 'sensory receptor'),\n",
       "  Text(15, 0, 'adult-born'),\n",
       "  Text(16, 0, 'mitral'),\n",
       "  Text(17, 0, 'newborn'),\n",
       "  Text(18, 0, 'cajal-retzius'),\n",
       "  Text(19, 0, 'axonless'),\n",
       "  Text(20, 0, 'medium spiny'),\n",
       "  Text(21, 0, 'stellate'),\n",
       "  Text(22, 0, 'motoneuron'),\n",
       "  Text(23, 0, 'glutamatergic'),\n",
       "  Text(24, 0, 'martinotti'),\n",
       "  Text(25, 0, 'spiny'),\n",
       "  Text(26, 0, 'callosal-projecting'),\n",
       "  Text(27, 0, 'neurogliaform'),\n",
       "  Text(28, 0, 'homeobox protein cux-2-positive'),\n",
       "  Text(29, 0, 'somatic'),\n",
       "  Text(30, 0, 'glia'),\n",
       "  Text(31, 0, 'projection'),\n",
       "  Text(32, 0, 'nitrergic'),\n",
       "  Text(33, 0, 'cone'),\n",
       "  Text(34, 0, 'direction sensitive'),\n",
       "  Text(35, 0, 'large'),\n",
       "  Text(36, 0, 'dlgn-projecting'),\n",
       "  Text(37, 0, 'corticogeniculate'),\n",
       "  Text(38, 0, 'typical'),\n",
       "  Text(39, 0, 'pyramidal-like'),\n",
       "  Text(40, 0, 'extraverted'),\n",
       "  Text(41, 0, 'unknown neurotransmitter'),\n",
       "  Text(42, 0, 'magnopyramidal'),\n",
       "  Text(43, 0, 'embryo-born'),\n",
       "  Text(44, 0, 'cholinergic'),\n",
       "  Text(45, 0, 'dopaminergic'),\n",
       "  Text(46, 0, 'pvd'),\n",
       "  Text(47, 0, 'steroid hormone receptor ad4bp-positive'),\n",
       "  Text(48, 0, 'tangential')])"
      ]
     },
     "execution_count": 26,
     "metadata": {},
     "output_type": "execute_result"
    },
    {
     "data": {
      "image/png": "[encoded data removed]",
      "text/plain": [
       "<Figure size 432x288 with 1 Axes>"
      ]
     },
     "metadata": {
      "needs_background": "light"
     },
     "output_type": "display_data"
    }
   ],
   "source": [
    "sns.boxenplot (x = 'cell type', y = 'alpha', data = full_df)\n",
    "plt.xticks(rotation = 45)"
   ]
  },
  {
   "cell_type": "code",
   "execution_count": 27,
   "id": "3fd1e00e-50a8-4c6d-9af2-0b38772507ee",
   "metadata": {},
   "outputs": [
    {
     "data": {
      "text/html": [
       "<div>\n",
       "<style scoped>\n",
       "    .dataframe tbody tr th:only-of-type {\n",
       "        vertical-align: middle;\n",
       "    }\n",
       "\n",
       "    .dataframe tbody tr th {\n",
       "        vertical-align: top;\n",
       "    }\n",
       "\n",
       "    .dataframe thead th {\n",
       "        text-align: right;\n",
       "    }\n",
       "</style>\n",
       "<table border=\"1\" class=\"dataframe\">\n",
       "  <thead>\n",
       "    <tr style=\"text-align: right;\">\n",
       "      <th></th>\n",
       "      <th>neuron name</th>\n",
       "      <th>neuron type</th>\n",
       "      <th>points</th>\n",
       "      <th>alpha</th>\n",
       "    </tr>\n",
       "  </thead>\n",
       "  <tbody>\n",
       "    <tr>\n",
       "      <th>0</th>\n",
       "      <td>humret_CR_AII_63x_4</td>\n",
       "      <td>apical dendrite</td>\n",
       "      <td>112</td>\n",
       "      <td>0.98</td>\n",
       "    </tr>\n",
       "    <tr>\n",
       "      <th>1</th>\n",
       "      <td>humret_CR_AII_63x_4</td>\n",
       "      <td>basal dendrite</td>\n",
       "      <td>3082</td>\n",
       "      <td>0.95</td>\n",
       "    </tr>\n",
       "    <tr>\n",
       "      <th>3</th>\n",
       "      <td>humret_CRinterplexiform_40x_1</td>\n",
       "      <td>basal dendrite</td>\n",
       "      <td>673</td>\n",
       "      <td>1.00</td>\n",
       "    </tr>\n",
       "    <tr>\n",
       "      <th>5</th>\n",
       "      <td>humret_CRinterplexiform_40x_2</td>\n",
       "      <td>basal dendrite</td>\n",
       "      <td>733</td>\n",
       "      <td>0.80</td>\n",
       "    </tr>\n",
       "    <tr>\n",
       "      <th>8</th>\n",
       "      <td>humret_CRinterplexiform_40x_3</td>\n",
       "      <td>basal dendrite</td>\n",
       "      <td>952</td>\n",
       "      <td>0.71</td>\n",
       "    </tr>\n",
       "    <tr>\n",
       "      <th>...</th>\n",
       "      <td>...</td>\n",
       "      <td>...</td>\n",
       "      <td>...</td>\n",
       "      <td>...</td>\n",
       "    </tr>\n",
       "    <tr>\n",
       "      <th>26800</th>\n",
       "      <td>SE17</td>\n",
       "      <td>apical dendrite</td>\n",
       "      <td>3099</td>\n",
       "      <td>0.76</td>\n",
       "    </tr>\n",
       "    <tr>\n",
       "      <th>26801</th>\n",
       "      <td>28-7-3-neu-LN</td>\n",
       "      <td>basal dendrite</td>\n",
       "      <td>3425</td>\n",
       "      <td>0.78</td>\n",
       "    </tr>\n",
       "    <tr>\n",
       "      <th>26802</th>\n",
       "      <td>20-5-2-KD</td>\n",
       "      <td>apical dendrite</td>\n",
       "      <td>3567</td>\n",
       "      <td>0.53</td>\n",
       "    </tr>\n",
       "    <tr>\n",
       "      <th>26803</th>\n",
       "      <td>DAG052C-2</td>\n",
       "      <td>basal dendrite</td>\n",
       "      <td>4115</td>\n",
       "      <td>1.00</td>\n",
       "    </tr>\n",
       "    <tr>\n",
       "      <th>26804</th>\n",
       "      <td>SE20</td>\n",
       "      <td>apical dendrite</td>\n",
       "      <td>3048</td>\n",
       "      <td>1.00</td>\n",
       "    </tr>\n",
       "  </tbody>\n",
       "</table>\n",
       "<p>19599 rows × 4 columns</p>\n",
       "</div>"
      ],
      "text/plain": [
       "                         neuron name      neuron type  points  alpha\n",
       "0                humret_CR_AII_63x_4  apical dendrite     112   0.98\n",
       "1                humret_CR_AII_63x_4   basal dendrite    3082   0.95\n",
       "3      humret_CRinterplexiform_40x_1   basal dendrite     673   1.00\n",
       "5      humret_CRinterplexiform_40x_2   basal dendrite     733   0.80\n",
       "8      humret_CRinterplexiform_40x_3   basal dendrite     952   0.71\n",
       "...                              ...              ...     ...    ...\n",
       "26800                           SE17  apical dendrite    3099   0.76\n",
       "26801                  28-7-3-neu-LN   basal dendrite    3425   0.78\n",
       "26802                      20-5-2-KD  apical dendrite    3567   0.53\n",
       "26803                      DAG052C-2   basal dendrite    4115   1.00\n",
       "26804                           SE20  apical dendrite    3048   1.00\n",
       "\n",
       "[19599 rows x 4 columns]"
      ]
     },
     "execution_count": 27,
     "metadata": {},
     "output_type": "execute_result"
    }
   ],
   "source": [
    "datafile\n"
   ]
  },
  {
   "cell_type": "code",
   "execution_count": 28,
   "id": "8a387d03-7968-4c1b-aadd-943c2d45b309",
   "metadata": {},
   "outputs": [
    {
     "data": {
      "text/plain": [
       "<seaborn.axisgrid.FacetGrid at 0x7f83448690d0>"
      ]
     },
     "execution_count": 28,
     "metadata": {},
     "output_type": "execute_result"
    },
    {
     "data": {
      "text/plain": [
       "<Figure size 1440x720 with 0 Axes>"
      ]
     },
     "metadata": {},
     "output_type": "display_data"
    },
    {
     "data": {
      "image/png": "[encoded data removed]",
      "text/plain": [
       "<Figure size 360x360 with 1 Axes>"
      ]
     },
     "metadata": {
      "needs_background": "light"
     },
     "output_type": "display_data"
    }
   ],
   "source": [
    "plt.figure(figsize = (20,10))\n",
    "sns.displot(full_df['alpha'])"
   ]
  },
  {
   "cell_type": "code",
   "execution_count": 29,
   "id": "eb832825-6cec-4ef7-bfc3-9e4328533c40",
   "metadata": {},
   "outputs": [
    {
     "data": {
      "text/plain": [
       "<seaborn.axisgrid.PairGrid at 0x7f834c246550>"
      ]
     },
     "execution_count": 29,
     "metadata": {},
     "output_type": "execute_result"
    },
    {
     "data": {
      "image/png": "[encoded data removed]",
      "text/plain": [
       "<Figure size 360x360 with 6 Axes>"
      ]
     },
     "metadata": {
      "needs_background": "light"
     },
     "output_type": "display_data"
    }
   ],
   "source": [
    "sns.pairplot(full_df)"
   ]
  },
  {
   "cell_type": "code",
   "execution_count": 30,
   "id": "8ff764a3-5d46-4fab-86d3-5cbcec5b20bc",
   "metadata": {},
   "outputs": [
    {
     "data": {
      "text/plain": [
       "<Figure size 3600x3600 with 0 Axes>"
      ]
     },
     "execution_count": 30,
     "metadata": {},
     "output_type": "execute_result"
    },
    {
     "data": {
      "image/png": "[encoded data removed]",
      "text/plain": [
       "<Figure size 432x288 with 1 Axes>"
      ]
     },
     "metadata": {
      "needs_background": "light"
     },
     "output_type": "display_data"
    },
    {
     "data": {
      "text/plain": [
       "<Figure size 3600x3600 with 0 Axes>"
      ]
     },
     "metadata": {},
     "output_type": "display_data"
    }
   ],
   "source": [
    "sns.boxenplot (x = 'cell type' , y = 'alpha', data = full_df)\n",
    "plt.xlim(13,0)\n",
    "plt.xticks(rotation = 45)\n",
    "plt.figure(figsize = (50,50))\n"
   ]
  },
  {
   "cell_type": "code",
   "execution_count": 31,
   "id": "0a560d1e-b610-4004-9801-5d58aca4f7e6",
   "metadata": {},
   "outputs": [
    {
     "data": {
      "text/plain": [
       "(13.0, 0.0)"
      ]
     },
     "execution_count": 31,
     "metadata": {},
     "output_type": "execute_result"
    },
    {
     "data": {
      "image/png": "[encoded data removed]",
      "text/plain": [
       "<Figure size 1440x720 with 1 Axes>"
      ]
     },
     "metadata": {
      "needs_background": "light"
     },
     "output_type": "display_data"
    }
   ],
   "source": [
    "plt.figure(figsize = (20,10))\n",
    "sns.histplot(data = full_df, x = 'cell type')\n",
    "plt.xticks(rotation = 45)\n",
    "plt.xlim(13,0)"
   ]
  },
  {
   "cell_type": "code",
   "execution_count": 32,
   "id": "6f2cf071-0543-4959-a09b-21d29c883149",
   "metadata": {},
   "outputs": [
    {
     "data": {
      "image/png": "[encoded data removed]",
      "text/plain": [
       "<Figure size 432x288 with 1 Axes>"
      ]
     },
     "metadata": {
      "needs_background": "light"
     },
     "output_type": "display_data"
    }
   ],
   "source": [
    "#plt.figure(figsize = (9, 5))\n",
    "sns.boxenplot (y = 'alpha', data = datafile)\n",
    "#plt.xlim([7,0])\n",
    "plt.xticks(rotation = 45)\n",
    "plt.show()"
   ]
  },
  {
   "cell_type": "code",
   "execution_count": 33,
   "id": "fbf03170-1f81-4197-a72b-bde4cdbd42a0",
   "metadata": {},
   "outputs": [
    {
     "data": {
      "text/plain": [
       "<Figure size 1440x720 with 0 Axes>"
      ]
     },
     "execution_count": 33,
     "metadata": {},
     "output_type": "execute_result"
    },
    {
     "data": {
      "image/png": "[encoded data removed]",
      "text/plain": [
       "<Figure size 432x288 with 1 Axes>"
      ]
     },
     "metadata": {
      "needs_background": "light"
     },
     "output_type": "display_data"
    },
    {
     "data": {
      "text/plain": [
       "<Figure size 1440x720 with 0 Axes>"
      ]
     },
     "metadata": {},
     "output_type": "display_data"
    }
   ],
   "source": [
    "sns.boxenplot (x = 'cell type' , y = 'alpha', data = full_df)\n",
    "plt.xlim([13,0])\n",
    "plt.xticks(rotation = 45)\n",
    "plt.figure(figsize = (20,10))\n"
   ]
  },
  {
   "cell_type": "code",
   "execution_count": 34,
   "id": "a19cc860-a5c4-48ae-aaf1-2b4a6c70357b",
   "metadata": {},
   "outputs": [
    {
     "data": {
      "text/html": [
       "<div>\n",
       "<style scoped>\n",
       "    .dataframe tbody tr th:only-of-type {\n",
       "        vertical-align: middle;\n",
       "    }\n",
       "\n",
       "    .dataframe tbody tr th {\n",
       "        vertical-align: top;\n",
       "    }\n",
       "\n",
       "    .dataframe thead th {\n",
       "        text-align: right;\n",
       "    }\n",
       "</style>\n",
       "<table border=\"1\" class=\"dataframe\">\n",
       "  <thead>\n",
       "    <tr style=\"text-align: right;\">\n",
       "      <th></th>\n",
       "      <th>neuron name</th>\n",
       "      <th>neuron type</th>\n",
       "      <th>points</th>\n",
       "      <th>alpha</th>\n",
       "      <th>cell type</th>\n",
       "      <th>species</th>\n",
       "      <th>region</th>\n",
       "      <th>lab</th>\n",
       "    </tr>\n",
       "  </thead>\n",
       "  <tbody>\n",
       "    <tr>\n",
       "      <th>0</th>\n",
       "      <td>humret_CR_AII_63x_4</td>\n",
       "      <td>apical dendrite</td>\n",
       "      <td>112</td>\n",
       "      <td>0.98</td>\n",
       "      <td>amacrine</td>\n",
       "      <td>human</td>\n",
       "      <td>retina</td>\n",
       "      <td>kantor</td>\n",
       "    </tr>\n",
       "    <tr>\n",
       "      <th>1</th>\n",
       "      <td>humret_CR_AII_63x_4</td>\n",
       "      <td>apical dendrite</td>\n",
       "      <td>112</td>\n",
       "      <td>0.98</td>\n",
       "      <td>amacrine</td>\n",
       "      <td>human</td>\n",
       "      <td>retina</td>\n",
       "      <td>kantor</td>\n",
       "    </tr>\n",
       "    <tr>\n",
       "      <th>2</th>\n",
       "      <td>humret_CR_AII_63x_4</td>\n",
       "      <td>apical dendrite</td>\n",
       "      <td>112</td>\n",
       "      <td>0.98</td>\n",
       "      <td>interneuron</td>\n",
       "      <td>human</td>\n",
       "      <td>retina</td>\n",
       "      <td>kantor</td>\n",
       "    </tr>\n",
       "    <tr>\n",
       "      <th>3</th>\n",
       "      <td>humret_CR_AII_63x_4</td>\n",
       "      <td>basal dendrite</td>\n",
       "      <td>3082</td>\n",
       "      <td>0.95</td>\n",
       "      <td>amacrine</td>\n",
       "      <td>human</td>\n",
       "      <td>retina</td>\n",
       "      <td>kantor</td>\n",
       "    </tr>\n",
       "    <tr>\n",
       "      <th>4</th>\n",
       "      <td>humret_CR_AII_63x_4</td>\n",
       "      <td>basal dendrite</td>\n",
       "      <td>3082</td>\n",
       "      <td>0.95</td>\n",
       "      <td>amacrine</td>\n",
       "      <td>human</td>\n",
       "      <td>retina</td>\n",
       "      <td>kantor</td>\n",
       "    </tr>\n",
       "    <tr>\n",
       "      <th>...</th>\n",
       "      <td>...</td>\n",
       "      <td>...</td>\n",
       "      <td>...</td>\n",
       "      <td>...</td>\n",
       "      <td>...</td>\n",
       "      <td>...</td>\n",
       "      <td>...</td>\n",
       "      <td>...</td>\n",
       "    </tr>\n",
       "    <tr>\n",
       "      <th>67463</th>\n",
       "      <td>SE20</td>\n",
       "      <td>apical dendrite</td>\n",
       "      <td>3048</td>\n",
       "      <td>1.00</td>\n",
       "      <td>principal cell</td>\n",
       "      <td>mouse</td>\n",
       "      <td>primary somatosensory</td>\n",
       "      <td>gartner-alpar</td>\n",
       "    </tr>\n",
       "    <tr>\n",
       "      <th>67464</th>\n",
       "      <td>SE20</td>\n",
       "      <td>apical dendrite</td>\n",
       "      <td>3048</td>\n",
       "      <td>1.00</td>\n",
       "      <td>pyramidal</td>\n",
       "      <td>mouse</td>\n",
       "      <td>neocortex</td>\n",
       "      <td>gartner-alpar</td>\n",
       "    </tr>\n",
       "    <tr>\n",
       "      <th>67465</th>\n",
       "      <td>SE20</td>\n",
       "      <td>apical dendrite</td>\n",
       "      <td>3048</td>\n",
       "      <td>1.00</td>\n",
       "      <td>pyramidal</td>\n",
       "      <td>mouse</td>\n",
       "      <td>somatosensory</td>\n",
       "      <td>gartner-alpar</td>\n",
       "    </tr>\n",
       "    <tr>\n",
       "      <th>67466</th>\n",
       "      <td>SE20</td>\n",
       "      <td>apical dendrite</td>\n",
       "      <td>3048</td>\n",
       "      <td>1.00</td>\n",
       "      <td>pyramidal</td>\n",
       "      <td>mouse</td>\n",
       "      <td>primary somatosensory</td>\n",
       "      <td>gartner-alpar</td>\n",
       "    </tr>\n",
       "    <tr>\n",
       "      <th>67467</th>\n",
       "      <td>SE20</td>\n",
       "      <td>apical dendrite</td>\n",
       "      <td>3048</td>\n",
       "      <td>1.00</td>\n",
       "      <td>pyramidal</td>\n",
       "      <td>mouse</td>\n",
       "      <td>left</td>\n",
       "      <td>gartner-alpar</td>\n",
       "    </tr>\n",
       "  </tbody>\n",
       "</table>\n",
       "<p>67468 rows × 8 columns</p>\n",
       "</div>"
      ],
      "text/plain": [
       "               neuron name      neuron type  points  alpha       cell type  \\\n",
       "0      humret_CR_AII_63x_4  apical dendrite     112   0.98        amacrine   \n",
       "1      humret_CR_AII_63x_4  apical dendrite     112   0.98        amacrine   \n",
       "2      humret_CR_AII_63x_4  apical dendrite     112   0.98     interneuron   \n",
       "3      humret_CR_AII_63x_4   basal dendrite    3082   0.95        amacrine   \n",
       "4      humret_CR_AII_63x_4   basal dendrite    3082   0.95        amacrine   \n",
       "...                    ...              ...     ...    ...             ...   \n",
       "67463                 SE20  apical dendrite    3048   1.00  principal cell   \n",
       "67464                 SE20  apical dendrite    3048   1.00       pyramidal   \n",
       "67465                 SE20  apical dendrite    3048   1.00       pyramidal   \n",
       "67466                 SE20  apical dendrite    3048   1.00       pyramidal   \n",
       "67467                 SE20  apical dendrite    3048   1.00       pyramidal   \n",
       "\n",
       "      species                 region            lab  \n",
       "0       human                 retina         kantor  \n",
       "1       human                 retina         kantor  \n",
       "2       human                 retina         kantor  \n",
       "3       human                 retina         kantor  \n",
       "4       human                 retina         kantor  \n",
       "...       ...                    ...            ...  \n",
       "67463   mouse  primary somatosensory  gartner-alpar  \n",
       "67464   mouse              neocortex  gartner-alpar  \n",
       "67465   mouse          somatosensory  gartner-alpar  \n",
       "67466   mouse  primary somatosensory  gartner-alpar  \n",
       "67467   mouse                   left  gartner-alpar  \n",
       "\n",
       "[67468 rows x 8 columns]"
      ]
     },
     "execution_count": 34,
     "metadata": {},
     "output_type": "execute_result"
    }
   ],
   "source": [
    "full_df\n"
   ]
  },
  {
   "cell_type": "code",
   "execution_count": 35,
   "id": "0b74140e-f0a8-4c8f-9344-9368f59e047c",
   "metadata": {},
   "outputs": [
    {
     "data": {
      "text/plain": [
       "<Figure size 1440x720 with 0 Axes>"
      ]
     },
     "execution_count": 35,
     "metadata": {},
     "output_type": "execute_result"
    },
    {
     "data": {
      "image/png": "[encoded data removed]",
      "text/plain": [
       "<Figure size 432x288 with 1 Axes>"
      ]
     },
     "metadata": {
      "needs_background": "light"
     },
     "output_type": "display_data"
    },
    {
     "data": {
      "text/plain": [
       "<Figure size 1440x720 with 0 Axes>"
      ]
     },
     "metadata": {},
     "output_type": "display_data"
    }
   ],
   "source": [
    "sns.countplot(data = full_df, x = 'cell type')\n",
    "plt.xticks(rotation = 45)\n",
    "plt.figure(figsize = (20,10))"
   ]
  },
  {
   "cell_type": "code",
   "execution_count": 36,
   "id": "67b53c06-6f87-4051-a889-bbd06b48a727",
   "metadata": {},
   "outputs": [
    {
     "data": {
      "text/html": [
       "<div>\n",
       "<style scoped>\n",
       "    .dataframe tbody tr th:only-of-type {\n",
       "        vertical-align: middle;\n",
       "    }\n",
       "\n",
       "    .dataframe tbody tr th {\n",
       "        vertical-align: top;\n",
       "    }\n",
       "\n",
       "    .dataframe thead th {\n",
       "        text-align: right;\n",
       "    }\n",
       "</style>\n",
       "<table border=\"1\" class=\"dataframe\">\n",
       "  <thead>\n",
       "    <tr style=\"text-align: right;\">\n",
       "      <th></th>\n",
       "      <th>neuron name</th>\n",
       "      <th>neuron type</th>\n",
       "      <th>points</th>\n",
       "      <th>alpha</th>\n",
       "      <th>cell type</th>\n",
       "      <th>species</th>\n",
       "      <th>region</th>\n",
       "      <th>lab</th>\n",
       "    </tr>\n",
       "  </thead>\n",
       "  <tbody>\n",
       "    <tr>\n",
       "      <th>0</th>\n",
       "      <td>humret_CR_AII_63x_4</td>\n",
       "      <td>apical dendrite</td>\n",
       "      <td>112</td>\n",
       "      <td>0.98</td>\n",
       "      <td>amacrine</td>\n",
       "      <td>human</td>\n",
       "      <td>retina</td>\n",
       "      <td>kantor</td>\n",
       "    </tr>\n",
       "    <tr>\n",
       "      <th>1</th>\n",
       "      <td>humret_CR_AII_63x_4</td>\n",
       "      <td>apical dendrite</td>\n",
       "      <td>112</td>\n",
       "      <td>0.98</td>\n",
       "      <td>amacrine</td>\n",
       "      <td>human</td>\n",
       "      <td>retina</td>\n",
       "      <td>kantor</td>\n",
       "    </tr>\n",
       "    <tr>\n",
       "      <th>2</th>\n",
       "      <td>humret_CR_AII_63x_4</td>\n",
       "      <td>apical dendrite</td>\n",
       "      <td>112</td>\n",
       "      <td>0.98</td>\n",
       "      <td>interneuron</td>\n",
       "      <td>human</td>\n",
       "      <td>retina</td>\n",
       "      <td>kantor</td>\n",
       "    </tr>\n",
       "    <tr>\n",
       "      <th>3</th>\n",
       "      <td>humret_CR_AII_63x_4</td>\n",
       "      <td>basal dendrite</td>\n",
       "      <td>3082</td>\n",
       "      <td>0.95</td>\n",
       "      <td>amacrine</td>\n",
       "      <td>human</td>\n",
       "      <td>retina</td>\n",
       "      <td>kantor</td>\n",
       "    </tr>\n",
       "    <tr>\n",
       "      <th>4</th>\n",
       "      <td>humret_CR_AII_63x_4</td>\n",
       "      <td>basal dendrite</td>\n",
       "      <td>3082</td>\n",
       "      <td>0.95</td>\n",
       "      <td>amacrine</td>\n",
       "      <td>human</td>\n",
       "      <td>retina</td>\n",
       "      <td>kantor</td>\n",
       "    </tr>\n",
       "    <tr>\n",
       "      <th>...</th>\n",
       "      <td>...</td>\n",
       "      <td>...</td>\n",
       "      <td>...</td>\n",
       "      <td>...</td>\n",
       "      <td>...</td>\n",
       "      <td>...</td>\n",
       "      <td>...</td>\n",
       "      <td>...</td>\n",
       "    </tr>\n",
       "    <tr>\n",
       "      <th>67463</th>\n",
       "      <td>SE20</td>\n",
       "      <td>apical dendrite</td>\n",
       "      <td>3048</td>\n",
       "      <td>1.00</td>\n",
       "      <td>principal cell</td>\n",
       "      <td>mouse</td>\n",
       "      <td>primary somatosensory</td>\n",
       "      <td>gartner-alpar</td>\n",
       "    </tr>\n",
       "    <tr>\n",
       "      <th>67464</th>\n",
       "      <td>SE20</td>\n",
       "      <td>apical dendrite</td>\n",
       "      <td>3048</td>\n",
       "      <td>1.00</td>\n",
       "      <td>pyramidal</td>\n",
       "      <td>mouse</td>\n",
       "      <td>neocortex</td>\n",
       "      <td>gartner-alpar</td>\n",
       "    </tr>\n",
       "    <tr>\n",
       "      <th>67465</th>\n",
       "      <td>SE20</td>\n",
       "      <td>apical dendrite</td>\n",
       "      <td>3048</td>\n",
       "      <td>1.00</td>\n",
       "      <td>pyramidal</td>\n",
       "      <td>mouse</td>\n",
       "      <td>somatosensory</td>\n",
       "      <td>gartner-alpar</td>\n",
       "    </tr>\n",
       "    <tr>\n",
       "      <th>67466</th>\n",
       "      <td>SE20</td>\n",
       "      <td>apical dendrite</td>\n",
       "      <td>3048</td>\n",
       "      <td>1.00</td>\n",
       "      <td>pyramidal</td>\n",
       "      <td>mouse</td>\n",
       "      <td>primary somatosensory</td>\n",
       "      <td>gartner-alpar</td>\n",
       "    </tr>\n",
       "    <tr>\n",
       "      <th>67467</th>\n",
       "      <td>SE20</td>\n",
       "      <td>apical dendrite</td>\n",
       "      <td>3048</td>\n",
       "      <td>1.00</td>\n",
       "      <td>pyramidal</td>\n",
       "      <td>mouse</td>\n",
       "      <td>left</td>\n",
       "      <td>gartner-alpar</td>\n",
       "    </tr>\n",
       "  </tbody>\n",
       "</table>\n",
       "<p>67468 rows × 8 columns</p>\n",
       "</div>"
      ],
      "text/plain": [
       "               neuron name      neuron type  points  alpha       cell type  \\\n",
       "0      humret_CR_AII_63x_4  apical dendrite     112   0.98        amacrine   \n",
       "1      humret_CR_AII_63x_4  apical dendrite     112   0.98        amacrine   \n",
       "2      humret_CR_AII_63x_4  apical dendrite     112   0.98     interneuron   \n",
       "3      humret_CR_AII_63x_4   basal dendrite    3082   0.95        amacrine   \n",
       "4      humret_CR_AII_63x_4   basal dendrite    3082   0.95        amacrine   \n",
       "...                    ...              ...     ...    ...             ...   \n",
       "67463                 SE20  apical dendrite    3048   1.00  principal cell   \n",
       "67464                 SE20  apical dendrite    3048   1.00       pyramidal   \n",
       "67465                 SE20  apical dendrite    3048   1.00       pyramidal   \n",
       "67466                 SE20  apical dendrite    3048   1.00       pyramidal   \n",
       "67467                 SE20  apical dendrite    3048   1.00       pyramidal   \n",
       "\n",
       "      species                 region            lab  \n",
       "0       human                 retina         kantor  \n",
       "1       human                 retina         kantor  \n",
       "2       human                 retina         kantor  \n",
       "3       human                 retina         kantor  \n",
       "4       human                 retina         kantor  \n",
       "...       ...                    ...            ...  \n",
       "67463   mouse  primary somatosensory  gartner-alpar  \n",
       "67464   mouse              neocortex  gartner-alpar  \n",
       "67465   mouse          somatosensory  gartner-alpar  \n",
       "67466   mouse  primary somatosensory  gartner-alpar  \n",
       "67467   mouse                   left  gartner-alpar  \n",
       "\n",
       "[67468 rows x 8 columns]"
      ]
     },
     "execution_count": 36,
     "metadata": {},
     "output_type": "execute_result"
    }
   ],
   "source": [
    "full_df\n"
   ]
  },
  {
   "cell_type": "code",
   "execution_count": 37,
   "id": "8d6ea2fe-c1d6-4530-819f-447738d93c68",
   "metadata": {},
   "outputs": [
    {
     "data": {
      "text/plain": [
       "<AxesSubplot:xlabel='cell type', ylabel='count'>"
      ]
     },
     "execution_count": 37,
     "metadata": {},
     "output_type": "execute_result"
    },
    {
     "data": {
      "image/png": "[encoded data removed]",
      "text/plain": [
       "<Figure size 432x288 with 1 Axes>"
      ]
     },
     "metadata": {
      "needs_background": "light"
     },
     "output_type": "display_data"
    }
   ],
   "source": [
    "sns.countplot(x = 'cell type', data = full_df)"
   ]
  },
  {
   "cell_type": "code",
   "execution_count": 38,
   "id": "3cf8d1b2-a9de-47cf-a211-c831f081ded5",
   "metadata": {},
   "outputs": [],
   "source": [
    "newDataSet = full_df[['cell type','alpha', 'points']]"
   ]
  },
  {
   "cell_type": "code",
   "execution_count": 39,
   "id": "9d453259-37a8-453f-b2bc-5d5a14bc0cd7",
   "metadata": {},
   "outputs": [
    {
     "data": {
      "text/html": [
       "<div>\n",
       "<style scoped>\n",
       "    .dataframe tbody tr th:only-of-type {\n",
       "        vertical-align: middle;\n",
       "    }\n",
       "\n",
       "    .dataframe tbody tr th {\n",
       "        vertical-align: top;\n",
       "    }\n",
       "\n",
       "    .dataframe thead th {\n",
       "        text-align: right;\n",
       "    }\n",
       "</style>\n",
       "<table border=\"1\" class=\"dataframe\">\n",
       "  <thead>\n",
       "    <tr style=\"text-align: right;\">\n",
       "      <th></th>\n",
       "      <th>cell type</th>\n",
       "      <th>alpha</th>\n",
       "      <th>points</th>\n",
       "    </tr>\n",
       "  </thead>\n",
       "  <tbody>\n",
       "    <tr>\n",
       "      <th>0</th>\n",
       "      <td>amacrine</td>\n",
       "      <td>0.98</td>\n",
       "      <td>112</td>\n",
       "    </tr>\n",
       "    <tr>\n",
       "      <th>1</th>\n",
       "      <td>amacrine</td>\n",
       "      <td>0.98</td>\n",
       "      <td>112</td>\n",
       "    </tr>\n",
       "    <tr>\n",
       "      <th>2</th>\n",
       "      <td>interneuron</td>\n",
       "      <td>0.98</td>\n",
       "      <td>112</td>\n",
       "    </tr>\n",
       "    <tr>\n",
       "      <th>3</th>\n",
       "      <td>amacrine</td>\n",
       "      <td>0.95</td>\n",
       "      <td>3082</td>\n",
       "    </tr>\n",
       "    <tr>\n",
       "      <th>4</th>\n",
       "      <td>amacrine</td>\n",
       "      <td>0.95</td>\n",
       "      <td>3082</td>\n",
       "    </tr>\n",
       "    <tr>\n",
       "      <th>...</th>\n",
       "      <td>...</td>\n",
       "      <td>...</td>\n",
       "      <td>...</td>\n",
       "    </tr>\n",
       "    <tr>\n",
       "      <th>67463</th>\n",
       "      <td>principal cell</td>\n",
       "      <td>1.00</td>\n",
       "      <td>3048</td>\n",
       "    </tr>\n",
       "    <tr>\n",
       "      <th>67464</th>\n",
       "      <td>pyramidal</td>\n",
       "      <td>1.00</td>\n",
       "      <td>3048</td>\n",
       "    </tr>\n",
       "    <tr>\n",
       "      <th>67465</th>\n",
       "      <td>pyramidal</td>\n",
       "      <td>1.00</td>\n",
       "      <td>3048</td>\n",
       "    </tr>\n",
       "    <tr>\n",
       "      <th>67466</th>\n",
       "      <td>pyramidal</td>\n",
       "      <td>1.00</td>\n",
       "      <td>3048</td>\n",
       "    </tr>\n",
       "    <tr>\n",
       "      <th>67467</th>\n",
       "      <td>pyramidal</td>\n",
       "      <td>1.00</td>\n",
       "      <td>3048</td>\n",
       "    </tr>\n",
       "  </tbody>\n",
       "</table>\n",
       "<p>67468 rows × 3 columns</p>\n",
       "</div>"
      ],
      "text/plain": [
       "            cell type  alpha  points\n",
       "0            amacrine   0.98     112\n",
       "1            amacrine   0.98     112\n",
       "2         interneuron   0.98     112\n",
       "3            amacrine   0.95    3082\n",
       "4            amacrine   0.95    3082\n",
       "...               ...    ...     ...\n",
       "67463  principal cell   1.00    3048\n",
       "67464       pyramidal   1.00    3048\n",
       "67465       pyramidal   1.00    3048\n",
       "67466       pyramidal   1.00    3048\n",
       "67467       pyramidal   1.00    3048\n",
       "\n",
       "[67468 rows x 3 columns]"
      ]
     },
     "execution_count": 39,
     "metadata": {},
     "output_type": "execute_result"
    }
   ],
   "source": [
    "newDataSet"
   ]
  },
  {
   "cell_type": "code",
   "execution_count": 40,
   "id": "4fa05e7c-4916-49f6-8bc9-df1f4d02542a",
   "metadata": {},
   "outputs": [],
   "source": [
    "#newDataSet.iloc[:442]\n",
    "#first = newDataSet.loc[\"amacrine\"]"
   ]
  },
  {
   "cell_type": "code",
   "execution_count": 41,
   "id": "454c1dd9-817a-4427-926f-4aebc986680b",
   "metadata": {},
   "outputs": [
    {
     "data": {
      "text/html": [
       "<div>\n",
       "<style scoped>\n",
       "    .dataframe tbody tr th:only-of-type {\n",
       "        vertical-align: middle;\n",
       "    }\n",
       "\n",
       "    .dataframe tbody tr th {\n",
       "        vertical-align: top;\n",
       "    }\n",
       "\n",
       "    .dataframe thead th {\n",
       "        text-align: right;\n",
       "    }\n",
       "</style>\n",
       "<table border=\"1\" class=\"dataframe\">\n",
       "  <thead>\n",
       "    <tr style=\"text-align: right;\">\n",
       "      <th></th>\n",
       "      <th>cell type</th>\n",
       "      <th>alpha</th>\n",
       "      <th>points</th>\n",
       "    </tr>\n",
       "  </thead>\n",
       "  <tbody>\n",
       "    <tr>\n",
       "      <th>0</th>\n",
       "      <td>amacrine</td>\n",
       "      <td>0.98</td>\n",
       "      <td>112</td>\n",
       "    </tr>\n",
       "    <tr>\n",
       "      <th>1</th>\n",
       "      <td>amacrine</td>\n",
       "      <td>0.98</td>\n",
       "      <td>112</td>\n",
       "    </tr>\n",
       "    <tr>\n",
       "      <th>2</th>\n",
       "      <td>interneuron</td>\n",
       "      <td>0.98</td>\n",
       "      <td>112</td>\n",
       "    </tr>\n",
       "    <tr>\n",
       "      <th>3</th>\n",
       "      <td>amacrine</td>\n",
       "      <td>0.95</td>\n",
       "      <td>3082</td>\n",
       "    </tr>\n",
       "    <tr>\n",
       "      <th>4</th>\n",
       "      <td>amacrine</td>\n",
       "      <td>0.95</td>\n",
       "      <td>3082</td>\n",
       "    </tr>\n",
       "    <tr>\n",
       "      <th>...</th>\n",
       "      <td>...</td>\n",
       "      <td>...</td>\n",
       "      <td>...</td>\n",
       "    </tr>\n",
       "    <tr>\n",
       "      <th>437</th>\n",
       "      <td>principal cell</td>\n",
       "      <td>0.10</td>\n",
       "      <td>553</td>\n",
       "    </tr>\n",
       "    <tr>\n",
       "      <th>438</th>\n",
       "      <td>principal cell</td>\n",
       "      <td>0.10</td>\n",
       "      <td>553</td>\n",
       "    </tr>\n",
       "    <tr>\n",
       "      <th>439</th>\n",
       "      <td>principal cell</td>\n",
       "      <td>0.10</td>\n",
       "      <td>553</td>\n",
       "    </tr>\n",
       "    <tr>\n",
       "      <th>440</th>\n",
       "      <td>pyramidal</td>\n",
       "      <td>0.10</td>\n",
       "      <td>553</td>\n",
       "    </tr>\n",
       "    <tr>\n",
       "      <th>441</th>\n",
       "      <td>pyramidal</td>\n",
       "      <td>0.10</td>\n",
       "      <td>553</td>\n",
       "    </tr>\n",
       "  </tbody>\n",
       "</table>\n",
       "<p>442 rows × 3 columns</p>\n",
       "</div>"
      ],
      "text/plain": [
       "          cell type  alpha  points\n",
       "0          amacrine   0.98     112\n",
       "1          amacrine   0.98     112\n",
       "2       interneuron   0.98     112\n",
       "3          amacrine   0.95    3082\n",
       "4          amacrine   0.95    3082\n",
       "..              ...    ...     ...\n",
       "437  principal cell   0.10     553\n",
       "438  principal cell   0.10     553\n",
       "439  principal cell   0.10     553\n",
       "440       pyramidal   0.10     553\n",
       "441       pyramidal   0.10     553\n",
       "\n",
       "[442 rows x 3 columns]"
      ]
     },
     "execution_count": 41,
     "metadata": {},
     "output_type": "execute_result"
    }
   ],
   "source": [
    "newDataSet.iloc[:442]"
   ]
  },
  {
   "cell_type": "code",
   "execution_count": 42,
   "id": "a686bd21-f007-4dfe-9d9d-e593e0a06a1d",
   "metadata": {},
   "outputs": [
    {
     "data": {
      "text/plain": [
       "(array([ 0,  1,  2,  3,  4,  5,  6,  7,  8,  9, 10, 11, 12, 13, 14, 15, 16,\n",
       "        17, 18, 19, 20, 21, 22, 23, 24, 25, 26, 27, 28, 29, 30, 31, 32, 33,\n",
       "        34, 35, 36, 37, 38, 39, 40, 41, 42, 43, 44, 45, 46, 47, 48]),\n",
       " [Text(0, 0, 'amacrine'),\n",
       "  Text(1, 0, 'interneuron'),\n",
       "  Text(2, 0, 'monostratified'),\n",
       "  Text(3, 0, 'bipolar'),\n",
       "  Text(4, 0, 'aspiny'),\n",
       "  Text(5, 0, 'golgi'),\n",
       "  Text(6, 0, 'principal cell'),\n",
       "  Text(7, 0, 'pyramidal'),\n",
       "  Text(8, 0, 'basket'),\n",
       "  Text(9, 0, 'granule'),\n",
       "  Text(10, 0, 'lugaro'),\n",
       "  Text(11, 0, 'gabaergic'),\n",
       "  Text(12, 0, 'fast-spiking'),\n",
       "  Text(13, 0, 'ganglion'),\n",
       "  Text(14, 0, 'sensory receptor'),\n",
       "  Text(15, 0, 'adult-born'),\n",
       "  Text(16, 0, 'mitral'),\n",
       "  Text(17, 0, 'newborn'),\n",
       "  Text(18, 0, 'cajal-retzius'),\n",
       "  Text(19, 0, 'axonless'),\n",
       "  Text(20, 0, 'medium spiny'),\n",
       "  Text(21, 0, 'stellate'),\n",
       "  Text(22, 0, 'motoneuron'),\n",
       "  Text(23, 0, 'glutamatergic'),\n",
       "  Text(24, 0, 'martinotti'),\n",
       "  Text(25, 0, 'spiny'),\n",
       "  Text(26, 0, 'callosal-projecting'),\n",
       "  Text(27, 0, 'neurogliaform'),\n",
       "  Text(28, 0, 'homeobox protein cux-2-positive'),\n",
       "  Text(29, 0, 'somatic'),\n",
       "  Text(30, 0, 'glia'),\n",
       "  Text(31, 0, 'projection'),\n",
       "  Text(32, 0, 'nitrergic'),\n",
       "  Text(33, 0, 'cone'),\n",
       "  Text(34, 0, 'direction sensitive'),\n",
       "  Text(35, 0, 'large'),\n",
       "  Text(36, 0, 'dlgn-projecting'),\n",
       "  Text(37, 0, 'corticogeniculate'),\n",
       "  Text(38, 0, 'typical'),\n",
       "  Text(39, 0, 'pyramidal-like'),\n",
       "  Text(40, 0, 'extraverted'),\n",
       "  Text(41, 0, 'unknown neurotransmitter'),\n",
       "  Text(42, 0, 'magnopyramidal'),\n",
       "  Text(43, 0, 'embryo-born'),\n",
       "  Text(44, 0, 'cholinergic'),\n",
       "  Text(45, 0, 'dopaminergic'),\n",
       "  Text(46, 0, 'pvd'),\n",
       "  Text(47, 0, 'steroid hormone receptor ad4bp-positive'),\n",
       "  Text(48, 0, 'tangential')])"
      ]
     },
     "execution_count": 42,
     "metadata": {},
     "output_type": "execute_result"
    },
    {
     "data": {
      "image/png": "[encoded data removed]",
      "text/plain": [
       "<Figure size 432x288 with 1 Axes>"
      ]
     },
     "metadata": {
      "needs_background": "light"
     },
     "output_type": "display_data"
    }
   ],
   "source": [
    "sns.barplot(x = 'cell type', y = 'alpha', data = newDataSet)\n",
    "plt.xlim([13,0])\n",
    "plt.xticks(rotation = 45)"
   ]
  },
  {
   "cell_type": "code",
   "execution_count": 43,
   "id": "9b84bc7a-03df-4ae8-8722-a56d120570d2",
   "metadata": {},
   "outputs": [],
   "source": [
    "fourCellTypes = newDataSet[newDataSet['cell type'].isin(['amacrine', 'bipolar', 'ganglion'])].copy()"
   ]
  },
  {
   "cell_type": "code",
   "execution_count": 56,
   "id": "bd9b67e8-b517-4b8d-8a8f-59b83431124c",
   "metadata": {},
   "outputs": [],
   "source": [
    "fourCellTypes['Cell Type Number'] = fourCellTypes['cell type'].map({'bipolar': 1, 'amacrine' : 2, 'ganglion' : 3}) "
   ]
  },
  {
   "cell_type": "code",
   "execution_count": 57,
   "id": "0b6cbc03-6db6-4650-a833-683083ab0e6e",
   "metadata": {},
   "outputs": [
    {
     "data": {
      "text/html": [
       "<div>\n",
       "<style scoped>\n",
       "    .dataframe tbody tr th:only-of-type {\n",
       "        vertical-align: middle;\n",
       "    }\n",
       "\n",
       "    .dataframe tbody tr th {\n",
       "        vertical-align: top;\n",
       "    }\n",
       "\n",
       "    .dataframe thead th {\n",
       "        text-align: right;\n",
       "    }\n",
       "</style>\n",
       "<table border=\"1\" class=\"dataframe\">\n",
       "  <thead>\n",
       "    <tr style=\"text-align: right;\">\n",
       "      <th></th>\n",
       "      <th>cell type</th>\n",
       "      <th>alpha</th>\n",
       "      <th>points</th>\n",
       "      <th>Cell Type Number</th>\n",
       "    </tr>\n",
       "  </thead>\n",
       "  <tbody>\n",
       "    <tr>\n",
       "      <th>0</th>\n",
       "      <td>amacrine</td>\n",
       "      <td>0.98</td>\n",
       "      <td>112</td>\n",
       "      <td>2</td>\n",
       "    </tr>\n",
       "    <tr>\n",
       "      <th>1</th>\n",
       "      <td>amacrine</td>\n",
       "      <td>0.98</td>\n",
       "      <td>112</td>\n",
       "      <td>2</td>\n",
       "    </tr>\n",
       "    <tr>\n",
       "      <th>3</th>\n",
       "      <td>amacrine</td>\n",
       "      <td>0.95</td>\n",
       "      <td>3082</td>\n",
       "      <td>2</td>\n",
       "    </tr>\n",
       "    <tr>\n",
       "      <th>4</th>\n",
       "      <td>amacrine</td>\n",
       "      <td>0.95</td>\n",
       "      <td>3082</td>\n",
       "      <td>2</td>\n",
       "    </tr>\n",
       "    <tr>\n",
       "      <th>6</th>\n",
       "      <td>amacrine</td>\n",
       "      <td>1.00</td>\n",
       "      <td>673</td>\n",
       "      <td>2</td>\n",
       "    </tr>\n",
       "    <tr>\n",
       "      <th>...</th>\n",
       "      <td>...</td>\n",
       "      <td>...</td>\n",
       "      <td>...</td>\n",
       "      <td>...</td>\n",
       "    </tr>\n",
       "    <tr>\n",
       "      <th>66221</th>\n",
       "      <td>ganglion</td>\n",
       "      <td>0.84</td>\n",
       "      <td>4675</td>\n",
       "      <td>3</td>\n",
       "    </tr>\n",
       "    <tr>\n",
       "      <th>66333</th>\n",
       "      <td>ganglion</td>\n",
       "      <td>0.72</td>\n",
       "      <td>3589</td>\n",
       "      <td>3</td>\n",
       "    </tr>\n",
       "    <tr>\n",
       "      <th>66334</th>\n",
       "      <td>ganglion</td>\n",
       "      <td>0.72</td>\n",
       "      <td>3589</td>\n",
       "      <td>3</td>\n",
       "    </tr>\n",
       "    <tr>\n",
       "      <th>66372</th>\n",
       "      <td>ganglion</td>\n",
       "      <td>0.93</td>\n",
       "      <td>3635</td>\n",
       "      <td>3</td>\n",
       "    </tr>\n",
       "    <tr>\n",
       "      <th>66373</th>\n",
       "      <td>ganglion</td>\n",
       "      <td>0.93</td>\n",
       "      <td>3635</td>\n",
       "      <td>3</td>\n",
       "    </tr>\n",
       "  </tbody>\n",
       "</table>\n",
       "<p>1094 rows × 4 columns</p>\n",
       "</div>"
      ],
      "text/plain": [
       "      cell type  alpha  points  Cell Type Number\n",
       "0      amacrine   0.98     112                 2\n",
       "1      amacrine   0.98     112                 2\n",
       "3      amacrine   0.95    3082                 2\n",
       "4      amacrine   0.95    3082                 2\n",
       "6      amacrine   1.00     673                 2\n",
       "...         ...    ...     ...               ...\n",
       "66221  ganglion   0.84    4675                 3\n",
       "66333  ganglion   0.72    3589                 3\n",
       "66334  ganglion   0.72    3589                 3\n",
       "66372  ganglion   0.93    3635                 3\n",
       "66373  ganglion   0.93    3635                 3\n",
       "\n",
       "[1094 rows x 4 columns]"
      ]
     },
     "execution_count": 57,
     "metadata": {},
     "output_type": "execute_result"
    }
   ],
   "source": [
    "fourCellTypes\n"
   ]
  },
  {
   "cell_type": "code",
   "execution_count": 58,
   "id": "25d18dc3-c41f-4783-9480-a02b33245e28",
   "metadata": {},
   "outputs": [
    {
     "data": {
      "text/plain": [
       "<AxesSubplot:xlabel='Cell Type Number', ylabel='alpha'>"
      ]
     },
     "execution_count": 58,
     "metadata": {},
     "output_type": "execute_result"
    },
    {
     "data": {
      "image/png": "[encoded data removed]",
      "text/plain": [
       "<Figure size 432x288 with 1 Axes>"
      ]
     },
     "metadata": {
      "needs_background": "light"
     },
     "output_type": "display_data"
    }
   ],
   "source": [
    "sns.lineplot(x = 'Cell Type Number', y = 'alpha', data = fourCellTypes)"
   ]
  },
  {
   "cell_type": "code",
   "execution_count": 47,
   "id": "c897a2b8-d2b7-497c-b7bf-d248a3e33176",
   "metadata": {},
   "outputs": [
    {
     "data": {
      "text/html": [
       "<div>\n",
       "<style scoped>\n",
       "    .dataframe tbody tr th:only-of-type {\n",
       "        vertical-align: middle;\n",
       "    }\n",
       "\n",
       "    .dataframe tbody tr th {\n",
       "        vertical-align: top;\n",
       "    }\n",
       "\n",
       "    .dataframe thead th {\n",
       "        text-align: right;\n",
       "    }\n",
       "</style>\n",
       "<table border=\"1\" class=\"dataframe\">\n",
       "  <thead>\n",
       "    <tr style=\"text-align: right;\">\n",
       "      <th></th>\n",
       "      <th>neuron name</th>\n",
       "      <th>neuron type</th>\n",
       "      <th>points</th>\n",
       "      <th>alpha</th>\n",
       "      <th>cell type</th>\n",
       "      <th>species</th>\n",
       "      <th>region</th>\n",
       "      <th>lab</th>\n",
       "    </tr>\n",
       "  </thead>\n",
       "  <tbody>\n",
       "    <tr>\n",
       "      <th>0</th>\n",
       "      <td>humret_CR_AII_63x_4</td>\n",
       "      <td>apical dendrite</td>\n",
       "      <td>112</td>\n",
       "      <td>0.98</td>\n",
       "      <td>amacrine</td>\n",
       "      <td>human</td>\n",
       "      <td>retina</td>\n",
       "      <td>kantor</td>\n",
       "    </tr>\n",
       "    <tr>\n",
       "      <th>1</th>\n",
       "      <td>humret_CR_AII_63x_4</td>\n",
       "      <td>apical dendrite</td>\n",
       "      <td>112</td>\n",
       "      <td>0.98</td>\n",
       "      <td>amacrine</td>\n",
       "      <td>human</td>\n",
       "      <td>retina</td>\n",
       "      <td>kantor</td>\n",
       "    </tr>\n",
       "    <tr>\n",
       "      <th>2</th>\n",
       "      <td>humret_CR_AII_63x_4</td>\n",
       "      <td>apical dendrite</td>\n",
       "      <td>112</td>\n",
       "      <td>0.98</td>\n",
       "      <td>interneuron</td>\n",
       "      <td>human</td>\n",
       "      <td>retina</td>\n",
       "      <td>kantor</td>\n",
       "    </tr>\n",
       "    <tr>\n",
       "      <th>3</th>\n",
       "      <td>humret_CR_AII_63x_4</td>\n",
       "      <td>basal dendrite</td>\n",
       "      <td>3082</td>\n",
       "      <td>0.95</td>\n",
       "      <td>amacrine</td>\n",
       "      <td>human</td>\n",
       "      <td>retina</td>\n",
       "      <td>kantor</td>\n",
       "    </tr>\n",
       "    <tr>\n",
       "      <th>4</th>\n",
       "      <td>humret_CR_AII_63x_4</td>\n",
       "      <td>basal dendrite</td>\n",
       "      <td>3082</td>\n",
       "      <td>0.95</td>\n",
       "      <td>amacrine</td>\n",
       "      <td>human</td>\n",
       "      <td>retina</td>\n",
       "      <td>kantor</td>\n",
       "    </tr>\n",
       "    <tr>\n",
       "      <th>...</th>\n",
       "      <td>...</td>\n",
       "      <td>...</td>\n",
       "      <td>...</td>\n",
       "      <td>...</td>\n",
       "      <td>...</td>\n",
       "      <td>...</td>\n",
       "      <td>...</td>\n",
       "      <td>...</td>\n",
       "    </tr>\n",
       "    <tr>\n",
       "      <th>67463</th>\n",
       "      <td>SE20</td>\n",
       "      <td>apical dendrite</td>\n",
       "      <td>3048</td>\n",
       "      <td>1.00</td>\n",
       "      <td>principal cell</td>\n",
       "      <td>mouse</td>\n",
       "      <td>primary somatosensory</td>\n",
       "      <td>gartner-alpar</td>\n",
       "    </tr>\n",
       "    <tr>\n",
       "      <th>67464</th>\n",
       "      <td>SE20</td>\n",
       "      <td>apical dendrite</td>\n",
       "      <td>3048</td>\n",
       "      <td>1.00</td>\n",
       "      <td>pyramidal</td>\n",
       "      <td>mouse</td>\n",
       "      <td>neocortex</td>\n",
       "      <td>gartner-alpar</td>\n",
       "    </tr>\n",
       "    <tr>\n",
       "      <th>67465</th>\n",
       "      <td>SE20</td>\n",
       "      <td>apical dendrite</td>\n",
       "      <td>3048</td>\n",
       "      <td>1.00</td>\n",
       "      <td>pyramidal</td>\n",
       "      <td>mouse</td>\n",
       "      <td>somatosensory</td>\n",
       "      <td>gartner-alpar</td>\n",
       "    </tr>\n",
       "    <tr>\n",
       "      <th>67466</th>\n",
       "      <td>SE20</td>\n",
       "      <td>apical dendrite</td>\n",
       "      <td>3048</td>\n",
       "      <td>1.00</td>\n",
       "      <td>pyramidal</td>\n",
       "      <td>mouse</td>\n",
       "      <td>primary somatosensory</td>\n",
       "      <td>gartner-alpar</td>\n",
       "    </tr>\n",
       "    <tr>\n",
       "      <th>67467</th>\n",
       "      <td>SE20</td>\n",
       "      <td>apical dendrite</td>\n",
       "      <td>3048</td>\n",
       "      <td>1.00</td>\n",
       "      <td>pyramidal</td>\n",
       "      <td>mouse</td>\n",
       "      <td>left</td>\n",
       "      <td>gartner-alpar</td>\n",
       "    </tr>\n",
       "  </tbody>\n",
       "</table>\n",
       "<p>67468 rows × 8 columns</p>\n",
       "</div>"
      ],
      "text/plain": [
       "               neuron name      neuron type  points  alpha       cell type  \\\n",
       "0      humret_CR_AII_63x_4  apical dendrite     112   0.98        amacrine   \n",
       "1      humret_CR_AII_63x_4  apical dendrite     112   0.98        amacrine   \n",
       "2      humret_CR_AII_63x_4  apical dendrite     112   0.98     interneuron   \n",
       "3      humret_CR_AII_63x_4   basal dendrite    3082   0.95        amacrine   \n",
       "4      humret_CR_AII_63x_4   basal dendrite    3082   0.95        amacrine   \n",
       "...                    ...              ...     ...    ...             ...   \n",
       "67463                 SE20  apical dendrite    3048   1.00  principal cell   \n",
       "67464                 SE20  apical dendrite    3048   1.00       pyramidal   \n",
       "67465                 SE20  apical dendrite    3048   1.00       pyramidal   \n",
       "67466                 SE20  apical dendrite    3048   1.00       pyramidal   \n",
       "67467                 SE20  apical dendrite    3048   1.00       pyramidal   \n",
       "\n",
       "      species                 region            lab  \n",
       "0       human                 retina         kantor  \n",
       "1       human                 retina         kantor  \n",
       "2       human                 retina         kantor  \n",
       "3       human                 retina         kantor  \n",
       "4       human                 retina         kantor  \n",
       "...       ...                    ...            ...  \n",
       "67463   mouse  primary somatosensory  gartner-alpar  \n",
       "67464   mouse              neocortex  gartner-alpar  \n",
       "67465   mouse          somatosensory  gartner-alpar  \n",
       "67466   mouse  primary somatosensory  gartner-alpar  \n",
       "67467   mouse                   left  gartner-alpar  \n",
       "\n",
       "[67468 rows x 8 columns]"
      ]
     },
     "execution_count": 47,
     "metadata": {},
     "output_type": "execute_result"
    }
   ],
   "source": [
    "full_df"
   ]
  },
  {
   "cell_type": "code",
   "execution_count": 48,
   "id": "134d2352-1cc2-43af-b081-e7bc2fa61755",
   "metadata": {},
   "outputs": [],
   "source": [
    "full_df = full_df[(full_df['cell type'].isin(['amacrine', 'ganglion', 'bipolar'])) & (full_df['region'] == 'retina')]\n"
   ]
  },
  {
   "cell_type": "code",
   "execution_count": 49,
   "id": "bfba37e5-7931-47b7-8f04-ddc6e78ebad0",
   "metadata": {},
   "outputs": [
    {
     "data": {
      "text/html": [
       "<div>\n",
       "<style scoped>\n",
       "    .dataframe tbody tr th:only-of-type {\n",
       "        vertical-align: middle;\n",
       "    }\n",
       "\n",
       "    .dataframe tbody tr th {\n",
       "        vertical-align: top;\n",
       "    }\n",
       "\n",
       "    .dataframe thead th {\n",
       "        text-align: right;\n",
       "    }\n",
       "</style>\n",
       "<table border=\"1\" class=\"dataframe\">\n",
       "  <thead>\n",
       "    <tr style=\"text-align: right;\">\n",
       "      <th></th>\n",
       "      <th>neuron name</th>\n",
       "      <th>neuron type</th>\n",
       "      <th>points</th>\n",
       "      <th>alpha</th>\n",
       "      <th>cell type</th>\n",
       "      <th>species</th>\n",
       "      <th>region</th>\n",
       "      <th>lab</th>\n",
       "    </tr>\n",
       "  </thead>\n",
       "  <tbody>\n",
       "    <tr>\n",
       "      <th>0</th>\n",
       "      <td>humret_CR_AII_63x_4</td>\n",
       "      <td>apical dendrite</td>\n",
       "      <td>112</td>\n",
       "      <td>0.98</td>\n",
       "      <td>amacrine</td>\n",
       "      <td>human</td>\n",
       "      <td>retina</td>\n",
       "      <td>kantor</td>\n",
       "    </tr>\n",
       "    <tr>\n",
       "      <th>1</th>\n",
       "      <td>humret_CR_AII_63x_4</td>\n",
       "      <td>apical dendrite</td>\n",
       "      <td>112</td>\n",
       "      <td>0.98</td>\n",
       "      <td>amacrine</td>\n",
       "      <td>human</td>\n",
       "      <td>retina</td>\n",
       "      <td>kantor</td>\n",
       "    </tr>\n",
       "    <tr>\n",
       "      <th>3</th>\n",
       "      <td>humret_CR_AII_63x_4</td>\n",
       "      <td>basal dendrite</td>\n",
       "      <td>3082</td>\n",
       "      <td>0.95</td>\n",
       "      <td>amacrine</td>\n",
       "      <td>human</td>\n",
       "      <td>retina</td>\n",
       "      <td>kantor</td>\n",
       "    </tr>\n",
       "    <tr>\n",
       "      <th>4</th>\n",
       "      <td>humret_CR_AII_63x_4</td>\n",
       "      <td>basal dendrite</td>\n",
       "      <td>3082</td>\n",
       "      <td>0.95</td>\n",
       "      <td>amacrine</td>\n",
       "      <td>human</td>\n",
       "      <td>retina</td>\n",
       "      <td>kantor</td>\n",
       "    </tr>\n",
       "    <tr>\n",
       "      <th>6</th>\n",
       "      <td>humret_CRinterplexiform_40x_1</td>\n",
       "      <td>basal dendrite</td>\n",
       "      <td>673</td>\n",
       "      <td>1.00</td>\n",
       "      <td>amacrine</td>\n",
       "      <td>human</td>\n",
       "      <td>retina</td>\n",
       "      <td>kantor</td>\n",
       "    </tr>\n",
       "    <tr>\n",
       "      <th>...</th>\n",
       "      <td>...</td>\n",
       "      <td>...</td>\n",
       "      <td>...</td>\n",
       "      <td>...</td>\n",
       "      <td>...</td>\n",
       "      <td>...</td>\n",
       "      <td>...</td>\n",
       "      <td>...</td>\n",
       "    </tr>\n",
       "    <tr>\n",
       "      <th>65790</th>\n",
       "      <td>20060907g1610r1c2</td>\n",
       "      <td>basal dendrite</td>\n",
       "      <td>4844</td>\n",
       "      <td>0.77</td>\n",
       "      <td>ganglion</td>\n",
       "      <td>goldfish</td>\n",
       "      <td>retina</td>\n",
       "      <td>stevens</td>\n",
       "    </tr>\n",
       "    <tr>\n",
       "      <th>66037</th>\n",
       "      <td>20061002g2490r1c2</td>\n",
       "      <td>basal dendrite</td>\n",
       "      <td>4027</td>\n",
       "      <td>0.94</td>\n",
       "      <td>ganglion</td>\n",
       "      <td>goldfish</td>\n",
       "      <td>retina</td>\n",
       "      <td>stevens</td>\n",
       "    </tr>\n",
       "    <tr>\n",
       "      <th>66220</th>\n",
       "      <td>20061101z221r2c2</td>\n",
       "      <td>basal dendrite</td>\n",
       "      <td>4675</td>\n",
       "      <td>0.84</td>\n",
       "      <td>ganglion</td>\n",
       "      <td>zebrafish</td>\n",
       "      <td>retina</td>\n",
       "      <td>stevens</td>\n",
       "    </tr>\n",
       "    <tr>\n",
       "      <th>66333</th>\n",
       "      <td>20060911g2060r2c1</td>\n",
       "      <td>basal dendrite</td>\n",
       "      <td>3589</td>\n",
       "      <td>0.72</td>\n",
       "      <td>ganglion</td>\n",
       "      <td>goldfish</td>\n",
       "      <td>retina</td>\n",
       "      <td>stevens</td>\n",
       "    </tr>\n",
       "    <tr>\n",
       "      <th>66372</th>\n",
       "      <td>20061108g2156r1c1</td>\n",
       "      <td>basal dendrite</td>\n",
       "      <td>3635</td>\n",
       "      <td>0.93</td>\n",
       "      <td>ganglion</td>\n",
       "      <td>goldfish</td>\n",
       "      <td>retina</td>\n",
       "      <td>stevens</td>\n",
       "    </tr>\n",
       "  </tbody>\n",
       "</table>\n",
       "<p>435 rows × 8 columns</p>\n",
       "</div>"
      ],
      "text/plain": [
       "                         neuron name      neuron type  points  alpha  \\\n",
       "0                humret_CR_AII_63x_4  apical dendrite     112   0.98   \n",
       "1                humret_CR_AII_63x_4  apical dendrite     112   0.98   \n",
       "3                humret_CR_AII_63x_4   basal dendrite    3082   0.95   \n",
       "4                humret_CR_AII_63x_4   basal dendrite    3082   0.95   \n",
       "6      humret_CRinterplexiform_40x_1   basal dendrite     673   1.00   \n",
       "...                              ...              ...     ...    ...   \n",
       "65790              20060907g1610r1c2   basal dendrite    4844   0.77   \n",
       "66037              20061002g2490r1c2   basal dendrite    4027   0.94   \n",
       "66220               20061101z221r2c2   basal dendrite    4675   0.84   \n",
       "66333              20060911g2060r2c1   basal dendrite    3589   0.72   \n",
       "66372              20061108g2156r1c1   basal dendrite    3635   0.93   \n",
       "\n",
       "      cell type    species  region      lab  \n",
       "0      amacrine      human  retina   kantor  \n",
       "1      amacrine      human  retina   kantor  \n",
       "3      amacrine      human  retina   kantor  \n",
       "4      amacrine      human  retina   kantor  \n",
       "6      amacrine      human  retina   kantor  \n",
       "...         ...        ...     ...      ...  \n",
       "65790  ganglion   goldfish  retina  stevens  \n",
       "66037  ganglion   goldfish  retina  stevens  \n",
       "66220  ganglion  zebrafish  retina  stevens  \n",
       "66333  ganglion   goldfish  retina  stevens  \n",
       "66372  ganglion   goldfish  retina  stevens  \n",
       "\n",
       "[435 rows x 8 columns]"
      ]
     },
     "execution_count": 49,
     "metadata": {},
     "output_type": "execute_result"
    }
   ],
   "source": [
    "full_df\n"
   ]
  },
  {
   "cell_type": "code",
   "execution_count": 50,
   "id": "fe2d799b-8fc9-460e-bc20-f67a283f8161",
   "metadata": {},
   "outputs": [
    {
     "data": {
      "text/plain": [
       "<AxesSubplot:xlabel='cell type', ylabel='alpha'>"
      ]
     },
     "execution_count": 50,
     "metadata": {},
     "output_type": "execute_result"
    },
    {
     "data": {
      "image/png": "[encoded data removed]",
      "text/plain": [
       "<Figure size 432x288 with 1 Axes>"
      ]
     },
     "metadata": {
      "needs_background": "light"
     },
     "output_type": "display_data"
    }
   ],
   "source": [
    "sns.lineplot(x = 'cell type', y = 'alpha', data = full_df)"
   ]
  },
  {
   "cell_type": "code",
   "execution_count": 51,
   "id": "b2d1807a-6ed2-4792-befa-3a411b62d0ad",
   "metadata": {},
   "outputs": [
    {
     "data": {
      "text/plain": [
       "<AxesSubplot:xlabel='neuron name', ylabel='alpha'>"
      ]
     },
     "execution_count": 51,
     "metadata": {},
     "output_type": "execute_result"
    },
    {
     "data": {
      "image/png": "[encoded data removed]",
      "text/plain": [
       "<Figure size 432x288 with 1 Axes>"
      ]
     },
     "metadata": {
      "needs_background": "light"
     },
     "output_type": "display_data"
    }
   ],
   "source": [
    "sns.scatterplot(x = 'neuron name', y = 'alpha', data = full_df )\n"
   ]
  },
  {
   "cell_type": "code",
   "execution_count": 52,
   "id": "d2825d11-ae68-46b5-af4b-b46c8c213e99",
   "metadata": {},
   "outputs": [
    {
     "ename": "UFuncTypeError",
     "evalue": "ufunc 'multiply' did not contain a loop with signature matching types (dtype('<U32'), dtype('<U32')) -> dtype('<U32')",
     "output_type": "error",
     "traceback": [
      "\u001b[0;31m---------------------------------------------------------------------------\u001b[0m",
      "\u001b[0;31mUFuncTypeError\u001b[0m                            Traceback (most recent call last)",
      "\u001b[0;32m<ipython-input-52-ccfe89e7d849>\u001b[0m in \u001b[0;36m<module>\u001b[0;34m\u001b[0m\n\u001b[0;32m----> 1\u001b[0;31m \u001b[0msns\u001b[0m\u001b[0;34m.\u001b[0m\u001b[0mregplot\u001b[0m\u001b[0;34m(\u001b[0m\u001b[0mx\u001b[0m \u001b[0;34m=\u001b[0m \u001b[0;34m'cell type'\u001b[0m\u001b[0;34m,\u001b[0m \u001b[0my\u001b[0m \u001b[0;34m=\u001b[0m \u001b[0;34m'alpha'\u001b[0m\u001b[0;34m,\u001b[0m \u001b[0mdata\u001b[0m \u001b[0;34m=\u001b[0m \u001b[0mfull_df\u001b[0m \u001b[0;34m)\u001b[0m\u001b[0;34m\u001b[0m\u001b[0;34m\u001b[0m\u001b[0m\n\u001b[0m",
      "\u001b[0;32m~/opt/anaconda3/lib/python3.8/site-packages/seaborn/_decorators.py\u001b[0m in \u001b[0;36minner_f\u001b[0;34m(*args, **kwargs)\u001b[0m\n\u001b[1;32m     44\u001b[0m             )\n\u001b[1;32m     45\u001b[0m         \u001b[0mkwargs\u001b[0m\u001b[0;34m.\u001b[0m\u001b[0mupdate\u001b[0m\u001b[0;34m(\u001b[0m\u001b[0;34m{\u001b[0m\u001b[0mk\u001b[0m\u001b[0;34m:\u001b[0m \u001b[0marg\u001b[0m \u001b[0;32mfor\u001b[0m \u001b[0mk\u001b[0m\u001b[0;34m,\u001b[0m \u001b[0marg\u001b[0m \u001b[0;32min\u001b[0m \u001b[0mzip\u001b[0m\u001b[0;34m(\u001b[0m\u001b[0msig\u001b[0m\u001b[0;34m.\u001b[0m\u001b[0mparameters\u001b[0m\u001b[0;34m,\u001b[0m \u001b[0margs\u001b[0m\u001b[0;34m)\u001b[0m\u001b[0;34m}\u001b[0m\u001b[0;34m)\u001b[0m\u001b[0;34m\u001b[0m\u001b[0;34m\u001b[0m\u001b[0m\n\u001b[0;32m---> 46\u001b[0;31m         \u001b[0;32mreturn\u001b[0m \u001b[0mf\u001b[0m\u001b[0;34m(\u001b[0m\u001b[0;34m**\u001b[0m\u001b[0mkwargs\u001b[0m\u001b[0;34m)\u001b[0m\u001b[0;34m\u001b[0m\u001b[0;34m\u001b[0m\u001b[0m\n\u001b[0m\u001b[1;32m     47\u001b[0m     \u001b[0;32mreturn\u001b[0m \u001b[0minner_f\u001b[0m\u001b[0;34m\u001b[0m\u001b[0;34m\u001b[0m\u001b[0m\n\u001b[1;32m     48\u001b[0m \u001b[0;34m\u001b[0m\u001b[0m\n",
      "\u001b[0;32m~/opt/anaconda3/lib/python3.8/site-packages/seaborn/regression.py\u001b[0m in \u001b[0;36mregplot\u001b[0;34m(x, y, data, x_estimator, x_bins, x_ci, scatter, fit_reg, ci, n_boot, units, seed, order, logistic, lowess, robust, logx, x_partial, y_partial, truncate, dropna, x_jitter, y_jitter, label, color, marker, scatter_kws, line_kws, ax)\u001b[0m\n\u001b[1;32m    836\u001b[0m     \u001b[0mscatter_kws\u001b[0m\u001b[0;34m[\u001b[0m\u001b[0;34m\"marker\"\u001b[0m\u001b[0;34m]\u001b[0m \u001b[0;34m=\u001b[0m \u001b[0mmarker\u001b[0m\u001b[0;34m\u001b[0m\u001b[0;34m\u001b[0m\u001b[0m\n\u001b[1;32m    837\u001b[0m     \u001b[0mline_kws\u001b[0m \u001b[0;34m=\u001b[0m \u001b[0;34m{\u001b[0m\u001b[0;34m}\u001b[0m \u001b[0;32mif\u001b[0m \u001b[0mline_kws\u001b[0m \u001b[0;32mis\u001b[0m \u001b[0;32mNone\u001b[0m \u001b[0;32melse\u001b[0m \u001b[0mcopy\u001b[0m\u001b[0;34m.\u001b[0m\u001b[0mcopy\u001b[0m\u001b[0;34m(\u001b[0m\u001b[0mline_kws\u001b[0m\u001b[0;34m)\u001b[0m\u001b[0;34m\u001b[0m\u001b[0;34m\u001b[0m\u001b[0m\n\u001b[0;32m--> 838\u001b[0;31m     \u001b[0mplotter\u001b[0m\u001b[0;34m.\u001b[0m\u001b[0mplot\u001b[0m\u001b[0;34m(\u001b[0m\u001b[0max\u001b[0m\u001b[0;34m,\u001b[0m \u001b[0mscatter_kws\u001b[0m\u001b[0;34m,\u001b[0m \u001b[0mline_kws\u001b[0m\u001b[0;34m)\u001b[0m\u001b[0;34m\u001b[0m\u001b[0;34m\u001b[0m\u001b[0m\n\u001b[0m\u001b[1;32m    839\u001b[0m     \u001b[0;32mreturn\u001b[0m \u001b[0max\u001b[0m\u001b[0;34m\u001b[0m\u001b[0;34m\u001b[0m\u001b[0m\n\u001b[1;32m    840\u001b[0m \u001b[0;34m\u001b[0m\u001b[0m\n",
      "\u001b[0;32m~/opt/anaconda3/lib/python3.8/site-packages/seaborn/regression.py\u001b[0m in \u001b[0;36mplot\u001b[0;34m(self, ax, scatter_kws, line_kws)\u001b[0m\n\u001b[1;32m    368\u001b[0m \u001b[0;34m\u001b[0m\u001b[0m\n\u001b[1;32m    369\u001b[0m         \u001b[0;32mif\u001b[0m \u001b[0mself\u001b[0m\u001b[0;34m.\u001b[0m\u001b[0mfit_reg\u001b[0m\u001b[0;34m:\u001b[0m\u001b[0;34m\u001b[0m\u001b[0;34m\u001b[0m\u001b[0m\n\u001b[0;32m--> 370\u001b[0;31m             \u001b[0mself\u001b[0m\u001b[0;34m.\u001b[0m\u001b[0mlineplot\u001b[0m\u001b[0;34m(\u001b[0m\u001b[0max\u001b[0m\u001b[0;34m,\u001b[0m \u001b[0mline_kws\u001b[0m\u001b[0;34m)\u001b[0m\u001b[0;34m\u001b[0m\u001b[0;34m\u001b[0m\u001b[0m\n\u001b[0m\u001b[1;32m    371\u001b[0m \u001b[0;34m\u001b[0m\u001b[0m\n\u001b[1;32m    372\u001b[0m         \u001b[0;31m# Label the axes\u001b[0m\u001b[0;34m\u001b[0m\u001b[0;34m\u001b[0m\u001b[0;34m\u001b[0m\u001b[0m\n",
      "\u001b[0;32m~/opt/anaconda3/lib/python3.8/site-packages/seaborn/regression.py\u001b[0m in \u001b[0;36mlineplot\u001b[0;34m(self, ax, kws)\u001b[0m\n\u001b[1;32m    411\u001b[0m         \u001b[0;34m\"\"\"Draw the model.\"\"\"\u001b[0m\u001b[0;34m\u001b[0m\u001b[0;34m\u001b[0m\u001b[0m\n\u001b[1;32m    412\u001b[0m         \u001b[0;31m# Fit the regression model\u001b[0m\u001b[0;34m\u001b[0m\u001b[0;34m\u001b[0m\u001b[0;34m\u001b[0m\u001b[0m\n\u001b[0;32m--> 413\u001b[0;31m         \u001b[0mgrid\u001b[0m\u001b[0;34m,\u001b[0m \u001b[0myhat\u001b[0m\u001b[0;34m,\u001b[0m \u001b[0merr_bands\u001b[0m \u001b[0;34m=\u001b[0m \u001b[0mself\u001b[0m\u001b[0;34m.\u001b[0m\u001b[0mfit_regression\u001b[0m\u001b[0;34m(\u001b[0m\u001b[0max\u001b[0m\u001b[0;34m)\u001b[0m\u001b[0;34m\u001b[0m\u001b[0;34m\u001b[0m\u001b[0m\n\u001b[0m\u001b[1;32m    414\u001b[0m         \u001b[0medges\u001b[0m \u001b[0;34m=\u001b[0m \u001b[0mgrid\u001b[0m\u001b[0;34m[\u001b[0m\u001b[0;36m0\u001b[0m\u001b[0;34m]\u001b[0m\u001b[0;34m,\u001b[0m \u001b[0mgrid\u001b[0m\u001b[0;34m[\u001b[0m\u001b[0;34m-\u001b[0m\u001b[0;36m1\u001b[0m\u001b[0;34m]\u001b[0m\u001b[0;34m\u001b[0m\u001b[0;34m\u001b[0m\u001b[0m\n\u001b[1;32m    415\u001b[0m \u001b[0;34m\u001b[0m\u001b[0m\n",
      "\u001b[0;32m~/opt/anaconda3/lib/python3.8/site-packages/seaborn/regression.py\u001b[0m in \u001b[0;36mfit_regression\u001b[0;34m(self, ax, x_range, grid)\u001b[0m\n\u001b[1;32m    199\u001b[0m                 \u001b[0;32melse\u001b[0m\u001b[0;34m:\u001b[0m\u001b[0;34m\u001b[0m\u001b[0;34m\u001b[0m\u001b[0m\n\u001b[1;32m    200\u001b[0m                     \u001b[0mx_min\u001b[0m\u001b[0;34m,\u001b[0m \u001b[0mx_max\u001b[0m \u001b[0;34m=\u001b[0m \u001b[0max\u001b[0m\u001b[0;34m.\u001b[0m\u001b[0mget_xlim\u001b[0m\u001b[0;34m(\u001b[0m\u001b[0;34m)\u001b[0m\u001b[0;34m\u001b[0m\u001b[0;34m\u001b[0m\u001b[0m\n\u001b[0;32m--> 201\u001b[0;31m             \u001b[0mgrid\u001b[0m \u001b[0;34m=\u001b[0m \u001b[0mnp\u001b[0m\u001b[0;34m.\u001b[0m\u001b[0mlinspace\u001b[0m\u001b[0;34m(\u001b[0m\u001b[0mx_min\u001b[0m\u001b[0;34m,\u001b[0m \u001b[0mx_max\u001b[0m\u001b[0;34m,\u001b[0m \u001b[0;36m100\u001b[0m\u001b[0;34m)\u001b[0m\u001b[0;34m\u001b[0m\u001b[0;34m\u001b[0m\u001b[0m\n\u001b[0m\u001b[1;32m    202\u001b[0m         \u001b[0mci\u001b[0m \u001b[0;34m=\u001b[0m \u001b[0mself\u001b[0m\u001b[0;34m.\u001b[0m\u001b[0mci\u001b[0m\u001b[0;34m\u001b[0m\u001b[0;34m\u001b[0m\u001b[0m\n\u001b[1;32m    203\u001b[0m \u001b[0;34m\u001b[0m\u001b[0m\n",
      "\u001b[0;32m<__array_function__ internals>\u001b[0m in \u001b[0;36mlinspace\u001b[0;34m(*args, **kwargs)\u001b[0m\n",
      "\u001b[0;32m~/opt/anaconda3/lib/python3.8/site-packages/numpy/core/function_base.py\u001b[0m in \u001b[0;36mlinspace\u001b[0;34m(start, stop, num, endpoint, retstep, dtype, axis)\u001b[0m\n\u001b[1;32m    125\u001b[0m     \u001b[0;31m# Convert float/complex array scalars to float, gh-3504\u001b[0m\u001b[0;34m\u001b[0m\u001b[0;34m\u001b[0m\u001b[0;34m\u001b[0m\u001b[0m\n\u001b[1;32m    126\u001b[0m     \u001b[0;31m# and make sure one can use variables that have an __array_interface__, gh-6634\u001b[0m\u001b[0;34m\u001b[0m\u001b[0;34m\u001b[0m\u001b[0;34m\u001b[0m\u001b[0m\n\u001b[0;32m--> 127\u001b[0;31m     \u001b[0mstart\u001b[0m \u001b[0;34m=\u001b[0m \u001b[0masanyarray\u001b[0m\u001b[0;34m(\u001b[0m\u001b[0mstart\u001b[0m\u001b[0;34m)\u001b[0m \u001b[0;34m*\u001b[0m \u001b[0;36m1.0\u001b[0m\u001b[0;34m\u001b[0m\u001b[0;34m\u001b[0m\u001b[0m\n\u001b[0m\u001b[1;32m    128\u001b[0m     \u001b[0mstop\u001b[0m  \u001b[0;34m=\u001b[0m \u001b[0masanyarray\u001b[0m\u001b[0;34m(\u001b[0m\u001b[0mstop\u001b[0m\u001b[0;34m)\u001b[0m  \u001b[0;34m*\u001b[0m \u001b[0;36m1.0\u001b[0m\u001b[0;34m\u001b[0m\u001b[0;34m\u001b[0m\u001b[0m\n\u001b[1;32m    129\u001b[0m \u001b[0;34m\u001b[0m\u001b[0m\n",
      "\u001b[0;31mUFuncTypeError\u001b[0m: ufunc 'multiply' did not contain a loop with signature matching types (dtype('<U32'), dtype('<U32')) -> dtype('<U32')"
     ]
    },
    {
     "data": {
      "image/png": "[encoded data removed]",
      "text/plain": [
       "<Figure size 432x288 with 1 Axes>"
      ]
     },
     "metadata": {
      "needs_background": "light"
     },
     "output_type": "display_data"
    }
   ],
   "source": [
    "sns.regplot(x = 'cell type', y = 'alpha', data = full_df )\n"
   ]
  },
  {
   "cell_type": "code",
   "execution_count": null,
   "id": "57c5e434-83f0-4b82-99a9-51e16b24b570",
   "metadata": {},
   "outputs": [],
   "source": []
  }
 ],
 "metadata": {
  "kernelspec": {
   "display_name": "Python 3",
   "language": "python",
   "name": "python3"
  },
  "language_info": {
   "codemirror_mode": {
    "name": "ipython",
    "version": 3
   },
   "file_extension": ".py",
   "mimetype": "text/x-python",
   "name": "python",
   "nbconvert_exporter": "python",
   "pygments_lexer": "ipython3",
   "version": "3.8.8"
  }
 },
 "nbformat": 4,
 "nbformat_minor": 5
}
